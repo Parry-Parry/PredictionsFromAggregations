{
 "cells": [
  {
   "cell_type": "code",
   "execution_count": 1,
   "metadata": {},
   "outputs": [],
   "source": [
    "from src.models.lstm_based.base_model import epsilon_model\n",
    "from src.models.structures import *\n",
    "from src.models.layers.image_layers import *\n",
    "from src.models.lstm_based.classification_heads import *\n",
    "from src.models.lstm_based.helper import *\n",
    "\n",
    "import tensorflow as tf\n",
    "import tensorflow.keras as tfk\n",
    "import tensorflow_addons as tfa\n",
    "\n",
    "import sklearn as sk\n",
    "import numpy as np"
   ]
  },
  {
   "cell_type": "code",
   "execution_count": 2,
   "metadata": {},
   "outputs": [],
   "source": [
    "BUFFER = 2048\n",
    "BATCH_SIZE = 128"
   ]
  },
  {
   "cell_type": "code",
   "execution_count": 3,
   "metadata": {},
   "outputs": [],
   "source": [
    "K = 1000\n",
    "EPSILON = [0.001, 0.005, 0.01, 0.05, 0.1]\n",
    "EPOCHS = 1\n",
    "SEED = 8008"
   ]
  },
  {
   "cell_type": "code",
   "execution_count": 4,
   "metadata": {},
   "outputs": [],
   "source": [
    "PARTITION_DIR = \"D:\\SUMMER_2022\\PROJECT\\PredictionsFromAggregations\\data\\interim\\lstm\"\n",
    "DATASET = 'MNIST'\n",
    "DIR = \"D:\\SUMMER_2022\\PROJECT\\PredictionsFromAggregations\\models\\v1\""
   ]
  },
  {
   "cell_type": "code",
   "execution_count": 5,
   "metadata": {},
   "outputs": [],
   "source": [
    "name, data = retrieve_dataset(DATASET, None)\n",
    "x_train, x_test, y_train, y_test = data\n",
    "dataset = Dataset(name, x_train, x_test, y_train, y_test)"
   ]
  },
  {
   "cell_type": "code",
   "execution_count": 6,
   "metadata": {},
   "outputs": [],
   "source": [
    "flat_dim = (None, np.product(dataset.x_train.shape, dtype=np.int32) // len(dataset.x_train))"
   ]
  },
  {
   "cell_type": "code",
   "execution_count": 7,
   "metadata": {},
   "outputs": [],
   "source": [
    "mean, dataset = aggregate(dataset, K, PARTITION_DIR, SEED)"
   ]
  },
  {
   "cell_type": "code",
   "execution_count": 8,
   "metadata": {},
   "outputs": [],
   "source": [
    "n_classes = len(np.unique(dataset.y_train))\n",
    "\n",
    "flatten_batch = lambda x : x.reshape(x.shape[0], np.product(x.shape[1:], dtype=np.int32))\n",
    "\n",
    "x_train = flatten_batch(dataset.x_train)\n",
    "y_train = tfk.utils.to_categorical(dataset.y_train, n_classes)\n",
    "x_test = flatten_batch(x_test)\n",
    "y_test = tfk.utils.to_categorical(dataset.y_test, n_classes)"
   ]
  },
  {
   "cell_type": "code",
   "execution_count": 9,
   "metadata": {},
   "outputs": [],
   "source": [
    "\"\"\"I present the current worst function in the codebase\"\"\"\n",
    "tf_convert = lambda x, y, type : (tf.data.Dataset.from_tensor_slices((tf.cast(x, type), tf.cast(y, type)))).shuffle(BUFFER).batch(BATCH_SIZE, drop_remainder=True).cache().prefetch(tf.data.AUTOTUNE)\n",
    "\n",
    "train_set = tf_convert(x_train, y_train, tf.uint8)\n",
    "test_set = tf_convert(x_test, y_test, tf.uint8)"
   ]
  },
  {
   "cell_type": "code",
   "execution_count": 10,
   "metadata": {},
   "outputs": [
    {
     "name": "stdout",
     "output_type": "stream",
     "text": [
      "WARNING:tensorflow:Layer merging_layer will not use cuDNN kernels since it doesn't meet the criteria. It will use a generic GPU kernel as fallback when running on GPU.\n",
      "WARNING:tensorflow:Layer merging_layer will not use cuDNN kernels since it doesn't meet the criteria. It will use a generic GPU kernel as fallback when running on GPU.\n",
      "WARNING:tensorflow:Layer merging_layer will not use cuDNN kernels since it doesn't meet the criteria. It will use a generic GPU kernel as fallback when running on GPU.\n"
     ]
    }
   ],
   "source": [
    "merger = tfk.layers.Bidirectional(tfk.layers.LSTM(mean.astype(int), activation='relu', name='merging_layer'))"
   ]
  },
  {
   "cell_type": "code",
   "execution_count": 11,
   "metadata": {},
   "outputs": [],
   "source": [
    "config = generator_config(flat_dim, 10, n_classes, None, None, merger)\n",
    "model = epsilon_model(config)\n",
    "\n",
    "step = tf.Variable(0, trainable=False)\n",
    "schedule = tf.optimizers.schedules.PiecewiseConstantDecay(\n",
    "[10000, 15000], [1e-0, 1e-1, 1e-2])\n",
    "lr = 1e-1 * schedule(step)\n",
    "wd = lambda: 1e-4 * schedule(step)\n",
    "\n",
    "optim = tfa.optimizers.AdamW(learning_rate=lr, weight_decay=wd)\n",
    "loss_func = tfk.losses.CategoricalCrossentropy()\n",
    "metrics = [None]\n",
    "\n",
    "model.compile(optimizer=optim, loss=loss_func, metrics=metrics)"
   ]
  },
  {
   "cell_type": "code",
   "execution_count": 12,
   "metadata": {},
   "outputs": [
    {
     "ename": "UnboundLocalError",
     "evalue": "in user code:\n\n    File \"d:\\CONDA\\envs\\tfproba\\lib\\site-packages\\keras\\engine\\training.py\", line 1051, in train_function  *\n        return step_function(self, iterator)\n    File \"d:\\CONDA\\envs\\tfproba\\lib\\site-packages\\keras\\engine\\training.py\", line 1040, in step_function  **\n        outputs = model.distribute_strategy.run(run_step, args=(data,))\n    File \"d:\\CONDA\\envs\\tfproba\\lib\\site-packages\\keras\\engine\\training.py\", line 1030, in run_step  **\n        outputs = model.train_step(data)\n    File \"d:\\CONDA\\envs\\tfproba\\lib\\site-packages\\keras\\engine\\training.py\", line 889, in train_step\n        y_pred = self(x, training=True)\n    File \"d:\\CONDA\\envs\\tfproba\\lib\\site-packages\\keras\\utils\\traceback_utils.py\", line 67, in error_handler\n        raise e.with_traceback(filtered_tb) from None\n    File \"C:\\Users\\Parry\\AppData\\Local\\Temp\\__autograph_generated_file763whrkt.py\", line 10, in tf__call\n        intermediate = ag__.converted_call(ag__.ld(tf).concat, ([ag__.converted_call(ag__.ld(gen), (ag__.ld(input_tensor),), None, fscope) for gen in ag__.ld(self).generators],), dict(axis=0), fscope)\n    File \"C:\\Users\\Parry\\AppData\\Local\\Temp\\__autograph_generated_file763whrkt.py\", line 10, in <listcomp>\n        intermediate = ag__.converted_call(ag__.ld(tf).concat, ([ag__.converted_call(ag__.ld(gen), (ag__.ld(input_tensor),), None, fscope) for gen in ag__.ld(self).generators],), dict(axis=0), fscope)\n    File \"C:\\Users\\Parry\\AppData\\Local\\Temp\\__autograph_generated_filegj6d53to.py\", line 10, in tf__call\n        spec = ag__.converted_call(ag__.ld(tf).TensorSpec, (), dict(shape=ag__.ld(input_tensor).shape, dtype=ag__.ld(tf).uint8, fn_output_signature=ag__.ld(spec)), fscope)\n\n    UnboundLocalError: Exception encountered when calling layer \"\" (type epsilon_model).\n    \n    in user code:\n    \n        File \"d:\\CONDA\\envs\\tfproba\\lib\\site-packages\\src-0.1.0-py3.9.egg\\src\\models\\lstm_based\\base_model.py\", line 31, in call  *\n            intermediate = tf.concat([gen(input_tensor) for gen in self.generators], axis=0)\n        File \"d:\\CONDA\\envs\\tfproba\\lib\\site-packages\\keras\\utils\\traceback_utils.py\", line 67, in error_handler  **\n            raise e.with_traceback(filtered_tb) from None\n        File \"C:\\Users\\Parry\\AppData\\Local\\Temp\\__autograph_generated_filegj6d53to.py\", line 10, in tf__call\n            spec = ag__.converted_call(ag__.ld(tf).TensorSpec, (), dict(shape=ag__.ld(input_tensor).shape, dtype=ag__.ld(tf).uint8, fn_output_signature=ag__.ld(spec)), fscope)\n    \n        UnboundLocalError: Exception encountered when calling layer \"epsilon_generator\" (type epsilon_generator).\n        \n        in user code:\n        \n            File \"d:\\CONDA\\envs\\tfproba\\lib\\site-packages\\src-0.1.0-py3.9.egg\\src\\models\\layers\\custom_layers.py\", line 41, in call  *\n                spec = tf.TensorSpec(shape=input_tensor.shape, dtype=tf.uint8, fn_output_signature=spec)\n        \n            UnboundLocalError: local variable 'spec' referenced before assignment\n        \n        \n        Call arguments received by layer \"epsilon_generator\" (type epsilon_generator):\n          • input_tensor=tf.Tensor(shape=(32, 784), dtype=float32)\n    \n    \n    Call arguments received by layer \"\" (type epsilon_model):\n      • input_tensor=tf.Tensor(shape=(32, 784), dtype=float32)\n",
     "output_type": "error",
     "traceback": [
      "\u001b[1;31m---------------------------------------------------------------------------\u001b[0m",
      "\u001b[1;31mUnboundLocalError\u001b[0m                         Traceback (most recent call last)",
      "\u001b[1;32md:\\SUMMER_2022\\PROJECT\\PredictionsFromAggregations\\notebooks\\v1\\testing_epsilon.ipynb Cell 12'\u001b[0m in \u001b[0;36m<cell line: 1>\u001b[1;34m()\u001b[0m\n\u001b[1;32m----> <a href='vscode-notebook-cell:/d%3A/SUMMER_2022/PROJECT/PredictionsFromAggregations/notebooks/v1/testing_epsilon.ipynb#ch0000013?line=0'>1</a>\u001b[0m history \u001b[39m=\u001b[39m model\u001b[39m.\u001b[39;49mfit(dataset\u001b[39m.\u001b[39;49mx_train, dataset\u001b[39m.\u001b[39;49my_train, epochs\u001b[39m=\u001b[39;49mEPOCHS, validation_split\u001b[39m=\u001b[39;49m\u001b[39m0.2\u001b[39;49m)\n",
      "File \u001b[1;32md:\\CONDA\\envs\\tfproba\\lib\\site-packages\\keras\\utils\\traceback_utils.py:67\u001b[0m, in \u001b[0;36mfilter_traceback.<locals>.error_handler\u001b[1;34m(*args, **kwargs)\u001b[0m\n\u001b[0;32m     65\u001b[0m \u001b[39mexcept\u001b[39;00m \u001b[39mException\u001b[39;00m \u001b[39mas\u001b[39;00m e:  \u001b[39m# pylint: disable=broad-except\u001b[39;00m\n\u001b[0;32m     66\u001b[0m   filtered_tb \u001b[39m=\u001b[39m _process_traceback_frames(e\u001b[39m.\u001b[39m__traceback__)\n\u001b[1;32m---> 67\u001b[0m   \u001b[39mraise\u001b[39;00m e\u001b[39m.\u001b[39mwith_traceback(filtered_tb) \u001b[39mfrom\u001b[39;00m \u001b[39mNone\u001b[39m\n\u001b[0;32m     68\u001b[0m \u001b[39mfinally\u001b[39;00m:\n\u001b[0;32m     69\u001b[0m   \u001b[39mdel\u001b[39;00m filtered_tb\n",
      "File \u001b[1;32m~\\AppData\\Local\\Temp\\__autograph_generated_fileellsji69.py:15\u001b[0m, in \u001b[0;36mouter_factory.<locals>.inner_factory.<locals>.tf__train_function\u001b[1;34m(iterator)\u001b[0m\n\u001b[0;32m     13\u001b[0m \u001b[39mtry\u001b[39;00m:\n\u001b[0;32m     14\u001b[0m     do_return \u001b[39m=\u001b[39m \u001b[39mTrue\u001b[39;00m\n\u001b[1;32m---> 15\u001b[0m     retval_ \u001b[39m=\u001b[39m ag__\u001b[39m.\u001b[39mconverted_call(ag__\u001b[39m.\u001b[39mld(step_function), (ag__\u001b[39m.\u001b[39mld(\u001b[39mself\u001b[39m), ag__\u001b[39m.\u001b[39mld(iterator)), \u001b[39mNone\u001b[39;00m, fscope)\n\u001b[0;32m     16\u001b[0m \u001b[39mexcept\u001b[39;00m:\n\u001b[0;32m     17\u001b[0m     do_return \u001b[39m=\u001b[39m \u001b[39mFalse\u001b[39;00m\n",
      "File \u001b[1;32m~\\AppData\\Local\\Temp\\__autograph_generated_file763whrkt.py:10\u001b[0m, in \u001b[0;36mouter_factory.<locals>.inner_factory.<locals>.tf__call\u001b[1;34m(self, input_tensor)\u001b[0m\n\u001b[0;32m      8\u001b[0m do_return \u001b[39m=\u001b[39m \u001b[39mFalse\u001b[39;00m\n\u001b[0;32m      9\u001b[0m retval_ \u001b[39m=\u001b[39m ag__\u001b[39m.\u001b[39mUndefinedReturnValue()\n\u001b[1;32m---> 10\u001b[0m intermediate \u001b[39m=\u001b[39m ag__\u001b[39m.\u001b[39mconverted_call(ag__\u001b[39m.\u001b[39mld(tf)\u001b[39m.\u001b[39mconcat, ([ag__\u001b[39m.\u001b[39mconverted_call(ag__\u001b[39m.\u001b[39mld(gen), (ag__\u001b[39m.\u001b[39mld(input_tensor),), \u001b[39mNone\u001b[39;00m, fscope) \u001b[39mfor\u001b[39;00m gen \u001b[39min\u001b[39;00m ag__\u001b[39m.\u001b[39mld(\u001b[39mself\u001b[39m)\u001b[39m.\u001b[39mgenerators],), \u001b[39mdict\u001b[39m(axis\u001b[39m=\u001b[39m\u001b[39m0\u001b[39m), fscope)\n\u001b[0;32m     11\u001b[0m merged \u001b[39m=\u001b[39m ag__\u001b[39m.\u001b[39mconverted_call(ag__\u001b[39m.\u001b[39mld(\u001b[39mself\u001b[39m)\u001b[39m.\u001b[39mmerger, (ag__\u001b[39m.\u001b[39mld(intermediate),), \u001b[39mNone\u001b[39;00m, fscope)\n\u001b[0;32m     12\u001b[0m \u001b[39mtry\u001b[39;00m:\n",
      "File \u001b[1;32m~\\AppData\\Local\\Temp\\__autograph_generated_file763whrkt.py:10\u001b[0m, in \u001b[0;36m<listcomp>\u001b[1;34m(.0)\u001b[0m\n\u001b[0;32m      8\u001b[0m do_return \u001b[39m=\u001b[39m \u001b[39mFalse\u001b[39;00m\n\u001b[0;32m      9\u001b[0m retval_ \u001b[39m=\u001b[39m ag__\u001b[39m.\u001b[39mUndefinedReturnValue()\n\u001b[1;32m---> 10\u001b[0m intermediate \u001b[39m=\u001b[39m ag__\u001b[39m.\u001b[39mconverted_call(ag__\u001b[39m.\u001b[39mld(tf)\u001b[39m.\u001b[39mconcat, ([ag__\u001b[39m.\u001b[39;49mconverted_call(ag__\u001b[39m.\u001b[39;49mld(gen), (ag__\u001b[39m.\u001b[39;49mld(input_tensor),), \u001b[39mNone\u001b[39;49;00m, fscope) \u001b[39mfor\u001b[39;00m gen \u001b[39min\u001b[39;00m ag__\u001b[39m.\u001b[39mld(\u001b[39mself\u001b[39m)\u001b[39m.\u001b[39mgenerators],), \u001b[39mdict\u001b[39m(axis\u001b[39m=\u001b[39m\u001b[39m0\u001b[39m), fscope)\n\u001b[0;32m     11\u001b[0m merged \u001b[39m=\u001b[39m ag__\u001b[39m.\u001b[39mconverted_call(ag__\u001b[39m.\u001b[39mld(\u001b[39mself\u001b[39m)\u001b[39m.\u001b[39mmerger, (ag__\u001b[39m.\u001b[39mld(intermediate),), \u001b[39mNone\u001b[39;00m, fscope)\n\u001b[0;32m     12\u001b[0m \u001b[39mtry\u001b[39;00m:\n",
      "File \u001b[1;32m~\\AppData\\Local\\Temp\\__autograph_generated_filegj6d53to.py:10\u001b[0m, in \u001b[0;36mouter_factory.<locals>.inner_factory.<locals>.tf__call\u001b[1;34m(self, input_tensor)\u001b[0m\n\u001b[0;32m      8\u001b[0m do_return \u001b[39m=\u001b[39m \u001b[39mFalse\u001b[39;00m\n\u001b[0;32m      9\u001b[0m retval_ \u001b[39m=\u001b[39m ag__\u001b[39m.\u001b[39mUndefinedReturnValue()\n\u001b[1;32m---> 10\u001b[0m spec \u001b[39m=\u001b[39m ag__\u001b[39m.\u001b[39mconverted_call(ag__\u001b[39m.\u001b[39mld(tf)\u001b[39m.\u001b[39mTensorSpec, (), \u001b[39mdict\u001b[39m(shape\u001b[39m=\u001b[39mag__\u001b[39m.\u001b[39mld(input_tensor)\u001b[39m.\u001b[39mshape, dtype\u001b[39m=\u001b[39mag__\u001b[39m.\u001b[39mld(tf)\u001b[39m.\u001b[39muint8, fn_output_signature\u001b[39m=\u001b[39mag__\u001b[39m.\u001b[39mld(spec)), fscope)\n\u001b[0;32m     11\u001b[0m x \u001b[39m=\u001b[39m ag__\u001b[39m.\u001b[39mconverted_call(ag__\u001b[39m.\u001b[39mld(\u001b[39mself\u001b[39m)\u001b[39m.\u001b[39m_sample, (ag__\u001b[39m.\u001b[39mld(input_tensor),), \u001b[39mNone\u001b[39;00m, fscope)\n\u001b[0;32m     13\u001b[0m \u001b[39mdef\u001b[39;00m \u001b[39mget_state\u001b[39m():\n",
      "\u001b[1;31mUnboundLocalError\u001b[0m: in user code:\n\n    File \"d:\\CONDA\\envs\\tfproba\\lib\\site-packages\\keras\\engine\\training.py\", line 1051, in train_function  *\n        return step_function(self, iterator)\n    File \"d:\\CONDA\\envs\\tfproba\\lib\\site-packages\\keras\\engine\\training.py\", line 1040, in step_function  **\n        outputs = model.distribute_strategy.run(run_step, args=(data,))\n    File \"d:\\CONDA\\envs\\tfproba\\lib\\site-packages\\keras\\engine\\training.py\", line 1030, in run_step  **\n        outputs = model.train_step(data)\n    File \"d:\\CONDA\\envs\\tfproba\\lib\\site-packages\\keras\\engine\\training.py\", line 889, in train_step\n        y_pred = self(x, training=True)\n    File \"d:\\CONDA\\envs\\tfproba\\lib\\site-packages\\keras\\utils\\traceback_utils.py\", line 67, in error_handler\n        raise e.with_traceback(filtered_tb) from None\n    File \"C:\\Users\\Parry\\AppData\\Local\\Temp\\__autograph_generated_file763whrkt.py\", line 10, in tf__call\n        intermediate = ag__.converted_call(ag__.ld(tf).concat, ([ag__.converted_call(ag__.ld(gen), (ag__.ld(input_tensor),), None, fscope) for gen in ag__.ld(self).generators],), dict(axis=0), fscope)\n    File \"C:\\Users\\Parry\\AppData\\Local\\Temp\\__autograph_generated_file763whrkt.py\", line 10, in <listcomp>\n        intermediate = ag__.converted_call(ag__.ld(tf).concat, ([ag__.converted_call(ag__.ld(gen), (ag__.ld(input_tensor),), None, fscope) for gen in ag__.ld(self).generators],), dict(axis=0), fscope)\n    File \"C:\\Users\\Parry\\AppData\\Local\\Temp\\__autograph_generated_filegj6d53to.py\", line 10, in tf__call\n        spec = ag__.converted_call(ag__.ld(tf).TensorSpec, (), dict(shape=ag__.ld(input_tensor).shape, dtype=ag__.ld(tf).uint8, fn_output_signature=ag__.ld(spec)), fscope)\n\n    UnboundLocalError: Exception encountered when calling layer \"\" (type epsilon_model).\n    \n    in user code:\n    \n        File \"d:\\CONDA\\envs\\tfproba\\lib\\site-packages\\src-0.1.0-py3.9.egg\\src\\models\\lstm_based\\base_model.py\", line 31, in call  *\n            intermediate = tf.concat([gen(input_tensor) for gen in self.generators], axis=0)\n        File \"d:\\CONDA\\envs\\tfproba\\lib\\site-packages\\keras\\utils\\traceback_utils.py\", line 67, in error_handler  **\n            raise e.with_traceback(filtered_tb) from None\n        File \"C:\\Users\\Parry\\AppData\\Local\\Temp\\__autograph_generated_filegj6d53to.py\", line 10, in tf__call\n            spec = ag__.converted_call(ag__.ld(tf).TensorSpec, (), dict(shape=ag__.ld(input_tensor).shape, dtype=ag__.ld(tf).uint8, fn_output_signature=ag__.ld(spec)), fscope)\n    \n        UnboundLocalError: Exception encountered when calling layer \"epsilon_generator\" (type epsilon_generator).\n        \n        in user code:\n        \n            File \"d:\\CONDA\\envs\\tfproba\\lib\\site-packages\\src-0.1.0-py3.9.egg\\src\\models\\layers\\custom_layers.py\", line 41, in call  *\n                spec = tf.TensorSpec(shape=input_tensor.shape, dtype=tf.uint8, fn_output_signature=spec)\n        \n            UnboundLocalError: local variable 'spec' referenced before assignment\n        \n        \n        Call arguments received by layer \"epsilon_generator\" (type epsilon_generator):\n          • input_tensor=tf.Tensor(shape=(32, 784), dtype=float32)\n    \n    \n    Call arguments received by layer \"\" (type epsilon_model):\n      • input_tensor=tf.Tensor(shape=(32, 784), dtype=float32)\n"
     ]
    }
   ],
   "source": [
    "history = model.fit(dataset.x_train, dataset.y_train, epochs=EPOCHS, validation_split=0.2)"
   ]
  }
 ],
 "metadata": {
  "kernelspec": {
   "display_name": "Python 3.9.13 ('tfproba')",
   "language": "python",
   "name": "python3"
  },
  "language_info": {
   "codemirror_mode": {
    "name": "ipython",
    "version": 3
   },
   "file_extension": ".py",
   "mimetype": "text/x-python",
   "name": "python",
   "nbconvert_exporter": "python",
   "pygments_lexer": "ipython3",
   "version": "3.9.13"
  },
  "orig_nbformat": 4,
  "vscode": {
   "interpreter": {
    "hash": "436b4fcf59259da6dc58e7cba2c0763a6ef61d3e8a386de76ee8b72546013833"
   }
  }
 },
 "nbformat": 4,
 "nbformat_minor": 2
}
