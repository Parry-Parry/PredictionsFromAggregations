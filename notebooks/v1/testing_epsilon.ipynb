{
 "cells": [
  {
   "cell_type": "code",
   "execution_count": 1,
   "metadata": {},
   "outputs": [],
   "source": [
    "from src.models.lstm_based.base_model import epsilon_model\n",
    "from src.models.structures import *\n",
    "from src.models.layers.image_layers import *\n",
    "from src.models.lstm_based.classification_heads import *\n",
    "from src.models.lstm_based.helper import *\n",
    "\n",
    "import tensorflow as tf\n",
    "import tensorflow.keras as tfk\n",
    "import tensorflow_addons as tfa\n",
    "\n",
    "import sklearn as sk\n",
    "import numpy as np"
   ]
  },
  {
   "cell_type": "code",
   "execution_count": 2,
   "metadata": {},
   "outputs": [],
   "source": [
    "BUFFER = 2048\n",
    "BATCH_SIZE = 128"
   ]
  },
  {
   "cell_type": "code",
   "execution_count": 3,
   "metadata": {},
   "outputs": [],
   "source": [
    "K = 1000\n",
    "EPSILON = [0.001, 0.005, 0.01, 0.05, 0.1]\n",
    "EPOCHS = 1\n",
    "SEED = 8008"
   ]
  },
  {
   "cell_type": "code",
   "execution_count": 4,
   "metadata": {},
   "outputs": [],
   "source": [
    "PARTITION_DIR = \"D:\\SUMMER_2022\\PROJECT\\PredictionsFromAggregations\\data\\interim\\lstm\"\n",
    "DATASET = 'MNIST'\n",
    "DIR = \"D:\\SUMMER_2022\\PROJECT\\PredictionsFromAggregations\\models\\v1\""
   ]
  },
  {
   "cell_type": "code",
   "execution_count": 5,
   "metadata": {},
   "outputs": [],
   "source": [
    "name, data = retrieve_dataset(DATASET, None)\n",
    "x_train, x_test, y_train, y_test = data\n",
    "dataset = Dataset(name, x_train, x_test, y_train, y_test)"
   ]
  },
  {
   "cell_type": "code",
   "execution_count": 6,
   "metadata": {},
   "outputs": [],
   "source": [
    "flat_dim = (None, np.product(dataset.x_train.shape, dtype=np.int32) // len(dataset.x_train))"
   ]
  },
  {
   "cell_type": "code",
   "execution_count": 7,
   "metadata": {},
   "outputs": [],
   "source": [
    "mean, dataset = aggregate(dataset, K, PARTITION_DIR, SEED)"
   ]
  },
  {
   "cell_type": "code",
   "execution_count": 8,
   "metadata": {},
   "outputs": [],
   "source": [
    "n_classes = len(np.unique(dataset.y_train))\n",
    "\n",
    "flatten_batch = lambda x : x.reshape(x.shape[0], np.product(x.shape[1:], dtype=np.int32))\n",
    "\n",
    "x_train = flatten_batch(dataset.x_train)\n",
    "y_train = tfk.utils.to_categorical(dataset.y_train, n_classes)\n",
    "x_test = flatten_batch(x_test)\n",
    "y_test = tfk.utils.to_categorical(dataset.y_test, n_classes)"
   ]
  },
  {
   "cell_type": "code",
   "execution_count": 9,
   "metadata": {},
   "outputs": [],
   "source": [
    "\"\"\"I present the current worst function in the codebase\"\"\"\n",
    "tf_convert = lambda x, y, type : (tf.data.Dataset.from_tensor_slices((tf.cast(x, type), tf.cast(y, type)))).shuffle(BUFFER).batch(BATCH_SIZE, drop_remainder=True).cache().prefetch(tf.data.AUTOTUNE)\n",
    "\n",
    "train_set = tf_convert(x_train, y_train, tf.float32)\n",
    "test_set = tf_convert(x_test, y_test, tf.float32)"
   ]
  },
  {
   "cell_type": "code",
   "execution_count": 10,
   "metadata": {},
   "outputs": [
    {
     "name": "stdout",
     "output_type": "stream",
     "text": [
      "WARNING:tensorflow:Layer merging_layer will not use cuDNN kernels since it doesn't meet the criteria. It will use a generic GPU kernel as fallback when running on GPU.\n",
      "WARNING:tensorflow:Layer merging_layer will not use cuDNN kernels since it doesn't meet the criteria. It will use a generic GPU kernel as fallback when running on GPU.\n",
      "WARNING:tensorflow:Layer merging_layer will not use cuDNN kernels since it doesn't meet the criteria. It will use a generic GPU kernel as fallback when running on GPU.\n"
     ]
    }
   ],
   "source": [
    "merger = tfk.layers.Bidirectional(tfk.layers.LSTM(mean.astype(int), activation='relu', name='merging_layer'))"
   ]
  },
  {
   "cell_type": "code",
   "execution_count": 11,
   "metadata": {},
   "outputs": [],
   "source": [
    "config = generator_config(flat_dim, 10, n_classes, None, None, merger)\n",
    "model = epsilon_model(config)\n",
    "\n",
    "step = tf.Variable(0, trainable=False)\n",
    "schedule = tf.optimizers.schedules.PiecewiseConstantDecay(\n",
    "[10000, 15000], [1e-0, 1e-1, 1e-2])\n",
    "lr = 1e-1 * schedule(step)\n",
    "wd = lambda: 1e-4 * schedule(step)\n",
    "\n",
    "optim = tfa.optimizers.AdamW(learning_rate=lr, weight_decay=wd)\n",
    "loss_func = tfk.losses.CategoricalCrossentropy()\n",
    "metrics = ['accuracy']\n",
    "\n",
    "model.compile(optimizer=optim, loss=loss_func, run_eagerly=True, metrics=metrics)"
   ]
  },
  {
   "cell_type": "code",
   "execution_count": 12,
   "metadata": {},
   "outputs": [
    {
     "ename": "TypeError",
     "evalue": "Exception encountered when calling layer \"epsilon_generator\" (type epsilon_generator).\n\nin user code:\n\n    File \"d:\\CONDA\\envs\\tfproba\\lib\\site-packages\\src-0.1.0-py3.9.egg\\src\\models\\layers\\custom_layers.py\", line 34, in _distr  *\n        distr = tfp.distributions.uniform(low=value-self.epsilon, high=value+self.epsilon)\n\n    TypeError: 'module' object is not callable\n\n\nCall arguments received by layer \"epsilon_generator\" (type epsilon_generator):\n  • input_tensor=tf.Tensor(shape=(128, 784), dtype=float32)",
     "output_type": "error",
     "traceback": [
      "\u001b[1;31m---------------------------------------------------------------------------\u001b[0m",
      "\u001b[1;31mTypeError\u001b[0m                                 Traceback (most recent call last)",
      "\u001b[1;32md:\\SUMMER_2022\\PROJECT\\PredictionsFromAggregations\\notebooks\\v1\\testing_epsilon.ipynb Cell 12'\u001b[0m in \u001b[0;36m<cell line: 1>\u001b[1;34m()\u001b[0m\n\u001b[1;32m----> <a href='vscode-notebook-cell:/d%3A/SUMMER_2022/PROJECT/PredictionsFromAggregations/notebooks/v1/testing_epsilon.ipynb#ch0000013?line=0'>1</a>\u001b[0m history \u001b[39m=\u001b[39m model\u001b[39m.\u001b[39;49mfit(train_set, epochs\u001b[39m=\u001b[39;49mEPOCHS)\n",
      "File \u001b[1;32md:\\CONDA\\envs\\tfproba\\lib\\site-packages\\keras\\utils\\traceback_utils.py:67\u001b[0m, in \u001b[0;36mfilter_traceback.<locals>.error_handler\u001b[1;34m(*args, **kwargs)\u001b[0m\n\u001b[0;32m     65\u001b[0m \u001b[39mexcept\u001b[39;00m \u001b[39mException\u001b[39;00m \u001b[39mas\u001b[39;00m e:  \u001b[39m# pylint: disable=broad-except\u001b[39;00m\n\u001b[0;32m     66\u001b[0m   filtered_tb \u001b[39m=\u001b[39m _process_traceback_frames(e\u001b[39m.\u001b[39m__traceback__)\n\u001b[1;32m---> 67\u001b[0m   \u001b[39mraise\u001b[39;00m e\u001b[39m.\u001b[39mwith_traceback(filtered_tb) \u001b[39mfrom\u001b[39;00m \u001b[39mNone\u001b[39m\n\u001b[0;32m     68\u001b[0m \u001b[39mfinally\u001b[39;00m:\n\u001b[0;32m     69\u001b[0m   \u001b[39mdel\u001b[39;00m filtered_tb\n",
      "File \u001b[1;32md:\\CONDA\\envs\\tfproba\\lib\\site-packages\\src-0.1.0-py3.9.egg\\src\\models\\lstm_based\\base_model.py:33\u001b[0m, in \u001b[0;36mepsilon_model.call\u001b[1;34m(self, input_tensor)\u001b[0m\n\u001b[0;32m     31\u001b[0m intermediate_values \u001b[39m=\u001b[39m \u001b[39mlist\u001b[39m\n\u001b[0;32m     32\u001b[0m \u001b[39mfor\u001b[39;00m i \u001b[39min\u001b[39;00m \u001b[39mrange\u001b[39m(\u001b[39mlen\u001b[39m(\u001b[39mself\u001b[39m\u001b[39m.\u001b[39mgenerators)):\n\u001b[1;32m---> 33\u001b[0m   intermediate_values\u001b[39m.\u001b[39mappend(\u001b[39mself\u001b[39;49m\u001b[39m.\u001b[39;49mgenerators[i](input_tensor))\n\u001b[0;32m     34\u001b[0m merged \u001b[39m=\u001b[39m \u001b[39mself\u001b[39m\u001b[39m.\u001b[39mmerger(tf\u001b[39m.\u001b[39mstack(intermediate_values, axis\u001b[39m=\u001b[39m\u001b[39m0\u001b[39m))\n\u001b[0;32m     35\u001b[0m \u001b[39m#intermediate = tf.concat([gen(input_tensor) for gen in self.generators], axis=0)\u001b[39;00m\n\u001b[0;32m     36\u001b[0m \u001b[39m#merged = self.merger(intermediate)\u001b[39;00m\n",
      "File \u001b[1;32md:\\CONDA\\envs\\tfproba\\lib\\site-packages\\src-0.1.0-py3.9.egg\\src\\models\\layers\\custom_layers.py:42\u001b[0m, in \u001b[0;36mepsilon_generator.call\u001b[1;34m(self, input_tensor)\u001b[0m\n\u001b[0;32m     41\u001b[0m \u001b[39mdef\u001b[39;00m \u001b[39mcall\u001b[39m(\u001b[39mself\u001b[39m, input_tensor):\n\u001b[1;32m---> 42\u001b[0m     x \u001b[39m=\u001b[39m \u001b[39mself\u001b[39;49m\u001b[39m.\u001b[39;49m_sample(input_tensor)\n\u001b[0;32m     43\u001b[0m     \u001b[39mif\u001b[39;00m \u001b[39mself\u001b[39m\u001b[39m.\u001b[39mintermediate: x \u001b[39m=\u001b[39m \u001b[39mself\u001b[39m\u001b[39m.\u001b[39mintermediate(x)\n\u001b[0;32m     44\u001b[0m     \u001b[39mreturn\u001b[39;00m \u001b[39mself\u001b[39m\u001b[39m.\u001b[39mout(x)\n",
      "File \u001b[1;32md:\\CONDA\\envs\\tfproba\\lib\\site-packages\\src-0.1.0-py3.9.egg\\src\\models\\layers\\custom_layers.py:39\u001b[0m, in \u001b[0;36mepsilon_generator._sample\u001b[1;34m(self, tensor)\u001b[0m\n\u001b[0;32m     37\u001b[0m \u001b[39mdef\u001b[39;00m \u001b[39m_sample\u001b[39m(\u001b[39mself\u001b[39m, tensor):\n\u001b[0;32m     38\u001b[0m     spec \u001b[39m=\u001b[39m tf\u001b[39m.\u001b[39mTensorSpec(shape\u001b[39m=\u001b[39mtensor\u001b[39m.\u001b[39mshape, dtype\u001b[39m=\u001b[39mtf\u001b[39m.\u001b[39mfloat32)\n\u001b[1;32m---> 39\u001b[0m     \u001b[39mreturn\u001b[39;00m tf\u001b[39m.\u001b[39;49mmap_fn(\u001b[39mself\u001b[39;49m\u001b[39m.\u001b[39;49m_distr, tensor, fn_output_signature\u001b[39m=\u001b[39;49mspec)\n",
      "File \u001b[1;32m~\\AppData\\Local\\Temp\\__autograph_generated_filekhpwmaoc.py:10\u001b[0m, in \u001b[0;36mouter_factory.<locals>.inner_factory.<locals>.tf___distr\u001b[1;34m(self, value)\u001b[0m\n\u001b[0;32m      8\u001b[0m do_return \u001b[39m=\u001b[39m \u001b[39mFalse\u001b[39;00m\n\u001b[0;32m      9\u001b[0m retval_ \u001b[39m=\u001b[39m ag__\u001b[39m.\u001b[39mUndefinedReturnValue()\n\u001b[1;32m---> 10\u001b[0m distr \u001b[39m=\u001b[39m ag__\u001b[39m.\u001b[39mconverted_call(ag__\u001b[39m.\u001b[39mld(tfp)\u001b[39m.\u001b[39mdistributions\u001b[39m.\u001b[39muniform, (), \u001b[39mdict\u001b[39m(low\u001b[39m=\u001b[39mag__\u001b[39m.\u001b[39mld(value) \u001b[39m-\u001b[39m ag__\u001b[39m.\u001b[39mld(\u001b[39mself\u001b[39m)\u001b[39m.\u001b[39mepsilon, high\u001b[39m=\u001b[39mag__\u001b[39m.\u001b[39mld(value) \u001b[39m+\u001b[39m ag__\u001b[39m.\u001b[39mld(\u001b[39mself\u001b[39m)\u001b[39m.\u001b[39mepsilon), fscope)\n\u001b[0;32m     11\u001b[0m \u001b[39mtry\u001b[39;00m:\n\u001b[0;32m     12\u001b[0m     do_return \u001b[39m=\u001b[39m \u001b[39mTrue\u001b[39;00m\n",
      "\u001b[1;31mTypeError\u001b[0m: Exception encountered when calling layer \"epsilon_generator\" (type epsilon_generator).\n\nin user code:\n\n    File \"d:\\CONDA\\envs\\tfproba\\lib\\site-packages\\src-0.1.0-py3.9.egg\\src\\models\\layers\\custom_layers.py\", line 34, in _distr  *\n        distr = tfp.distributions.uniform(low=value-self.epsilon, high=value+self.epsilon)\n\n    TypeError: 'module' object is not callable\n\n\nCall arguments received by layer \"epsilon_generator\" (type epsilon_generator):\n  • input_tensor=tf.Tensor(shape=(128, 784), dtype=float32)"
     ]
    }
   ],
   "source": [
    "history = model.fit(train_set, epochs=EPOCHS)"
   ]
  }
 ],
 "metadata": {
  "kernelspec": {
   "display_name": "Python 3.9.13 ('tfproba')",
   "language": "python",
   "name": "python3"
  },
  "language_info": {
   "codemirror_mode": {
    "name": "ipython",
    "version": 3
   },
   "file_extension": ".py",
   "mimetype": "text/x-python",
   "name": "python",
   "nbconvert_exporter": "python",
   "pygments_lexer": "ipython3",
   "version": "3.9.13"
  },
  "orig_nbformat": 4,
  "vscode": {
   "interpreter": {
    "hash": "436b4fcf59259da6dc58e7cba2c0763a6ef61d3e8a386de76ee8b72546013833"
   }
  }
 },
 "nbformat": 4,
 "nbformat_minor": 2
}
