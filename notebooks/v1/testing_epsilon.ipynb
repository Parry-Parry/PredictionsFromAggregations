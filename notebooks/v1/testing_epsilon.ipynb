{
 "cells": [
  {
   "cell_type": "code",
   "execution_count": 1,
   "metadata": {},
   "outputs": [],
   "source": [
    "from src.models.lstm_based.base_model import epsilon_model\n",
    "from src.models.structures import *\n",
    "from src.models.layers.image_layers import *\n",
    "from src.models.lstm_based.classification_heads import *\n",
    "from src.models.lstm_based.helper import *\n",
    "\n",
    "import tensorflow as tf\n",
    "import tensorflow.keras as tfk\n",
    "import tensorflow_addons as tfa\n",
    "\n",
    "import sklearn as sk\n",
    "import numpy as np"
   ]
  },
  {
   "cell_type": "code",
   "execution_count": 2,
   "metadata": {},
   "outputs": [],
   "source": [
    "BUFFER = 2048\n",
    "BATCH_SIZE = 128"
   ]
  },
  {
   "cell_type": "code",
   "execution_count": 3,
   "metadata": {},
   "outputs": [],
   "source": [
    "K = 1000\n",
    "EPSILON = [0.001, 0.005, 0.01, 0.05, 0.1]\n",
    "EPOCHS = 1\n",
    "SEED = 8008"
   ]
  },
  {
   "cell_type": "code",
   "execution_count": 4,
   "metadata": {},
   "outputs": [],
   "source": [
    "PARTITION_DIR = \"D:\\SUMMER_2022\\PROJECT\\PredictionsFromAggregations\\data\\interim\\lstm\"\n",
    "DATASET = 'MNIST'\n",
    "DIR = \"D:\\SUMMER_2022\\PROJECT\\PredictionsFromAggregations\\models\\v1\""
   ]
  },
  {
   "cell_type": "code",
   "execution_count": 5,
   "metadata": {},
   "outputs": [],
   "source": [
    "name, data = retrieve_dataset(DATASET, None)\n",
    "x_train, x_test, y_train, y_test = data\n",
    "dataset = Dataset(name, x_train, x_test, y_train, y_test)"
   ]
  },
  {
   "cell_type": "code",
   "execution_count": 6,
   "metadata": {},
   "outputs": [],
   "source": [
    "flat_dim = (np.product(dataset.x_train.shape, dtype=np.int32) // len(dataset.x_train), )"
   ]
  },
  {
   "cell_type": "code",
   "execution_count": 7,
   "metadata": {},
   "outputs": [],
   "source": [
    "mean, dataset = aggregate(dataset, K, PARTITION_DIR, SEED)"
   ]
  },
  {
   "cell_type": "code",
   "execution_count": 11,
   "metadata": {},
   "outputs": [
    {
     "data": {
      "text/plain": [
       "(1000,)"
      ]
     },
     "execution_count": 11,
     "metadata": {},
     "output_type": "execute_result"
    }
   ],
   "source": [
    "dataset.y_train.shape"
   ]
  },
  {
   "cell_type": "code",
   "execution_count": 12,
   "metadata": {},
   "outputs": [],
   "source": [
    "n_classes = len(np.unique(dataset.y_train))\n",
    "\n",
    "flatten_batch = lambda x : x.reshape(x.shape[0], np.product(x.shape[1:], dtype=np.int32))\n",
    "\n",
    "y_train = tfk.utils.to_categorical(dataset.y_train, n_classes)\n",
    "x_test = flatten_batch(x_test)\n",
    "y_test = tfk.utils.to_categorical(dataset.y_test, n_classes)"
   ]
  },
  {
   "cell_type": "code",
   "execution_count": 16,
   "metadata": {},
   "outputs": [],
   "source": [
    "x_train, x_val, y_train, y_val = sk.model_selection.train_test_split(dataset.x_train, y_train, test_size=0.2, random_state=42)"
   ]
  },
  {
   "cell_type": "code",
   "execution_count": 17,
   "metadata": {},
   "outputs": [],
   "source": [
    "\"\"\"I present the current worst function in the codebase\"\"\"\n",
    "tf_convert = lambda x, y, type : (tf.data.Dataset.from_tensor_slices((tf.cast(x, type), tf.cast(y, type)))).shuffle(BUFFER).batch(BATCH_SIZE, drop_remainder=True).cache().prefetch(tf.data.AUTOTUNE)\n",
    "\n",
    "train_set = tf_convert(x_train, y_train, tf.uint8)\n",
    "test_set = tf_convert(x_test, y_test, tf.uint8)\n",
    "val_set = tf_convert(x_val, y_val, tf.uint8)"
   ]
  },
  {
   "cell_type": "code",
   "execution_count": 19,
   "metadata": {},
   "outputs": [
    {
     "ename": "AttributeError",
     "evalue": "module 'tensorflow.keras.layers' has no attribute 'BiDirectional'",
     "output_type": "error",
     "traceback": [
      "\u001b[1;31m---------------------------------------------------------------------------\u001b[0m",
      "\u001b[1;31mAttributeError\u001b[0m                            Traceback (most recent call last)",
      "\u001b[1;32md:\\SUMMER_2022\\PROJECT\\PredictionsFromAggregations\\notebooks\\v1\\testing_epsilon.ipynb Cell 12'\u001b[0m in \u001b[0;36m<cell line: 1>\u001b[1;34m()\u001b[0m\n\u001b[1;32m----> <a href='vscode-notebook-cell:/d%3A/SUMMER_2022/PROJECT/PredictionsFromAggregations/notebooks/v1/testing_epsilon.ipynb#ch0000006?line=0'>1</a>\u001b[0m merger \u001b[39m=\u001b[39m tfk\u001b[39m.\u001b[39;49mlayers\u001b[39m.\u001b[39;49mBiDirectional(tfk\u001b[39m.\u001b[39mlayers\u001b[39m.\u001b[39mLSTM(mean, activation\u001b[39m=\u001b[39m\u001b[39m'\u001b[39m\u001b[39mrelu\u001b[39m\u001b[39m'\u001b[39m, name\u001b[39m=\u001b[39m\u001b[39m'\u001b[39m\u001b[39mmerging_layer\u001b[39m\u001b[39m'\u001b[39m))\n",
      "\u001b[1;31mAttributeError\u001b[0m: module 'tensorflow.keras.layers' has no attribute 'BiDirectional'"
     ]
    }
   ],
   "source": [
    "merger = tfk.layers.BiDirectional(tfk.layers.LSTM(mean, activation='relu', name='merging_layer'))"
   ]
  },
  {
   "cell_type": "code",
   "execution_count": null,
   "metadata": {},
   "outputs": [
    {
     "ename": "",
     "evalue": "",
     "output_type": "error",
     "traceback": [
      "\u001b[1;31mRunning cells with 'Python 3.9.13 ('tfproba')' requires ipykernel package.\n",
      "Run the following command to install 'ipykernel' into the Python environment. \n",
      "Command: 'conda install -n tfproba ipykernel --update-deps --force-reinstall'"
     ]
    },
    {
     "ename": "",
     "evalue": "",
     "output_type": "error",
     "traceback": [
      "\u001b[1;31mRunning cells with 'Python 3.9.13 ('tfproba')' requires ipykernel package.\n",
      "Run the following command to install 'ipykernel' into the Python environment. \n",
      "Command: 'conda install -n tfproba ipykernel --update-deps --force-reinstall'"
     ]
    }
   ],
   "source": [
    "config = generator_config(flat_dim, 10, n_classes, None, None, merger)\n",
    "model = epsilon_model(config)\n",
    "\n",
    "step = tf.Variable(0, trainable=False)\n",
    "schedule = tf.optimizers.schedules.PiecewiseConstantDecay(\n",
    "[10000, 15000], [1e-0, 1e-1, 1e-2])\n",
    "lr = 1e-1 * schedule(step)\n",
    "wd = lambda: 1e-4 * schedule(step)\n",
    "\n",
    "optim = tfa.optimizers.AdamW(learning_rate=lr, weight_decay=wd)\n",
    "loss_func = tfk.losses.CategoricalCrossentropy()\n",
    "metrics = [None]\n",
    "\n",
    "model.compile(optimizer=optim, loss=loss_func, metrics=metrics)"
   ]
  },
  {
   "cell_type": "code",
   "execution_count": null,
   "metadata": {},
   "outputs": [
    {
     "ename": "",
     "evalue": "",
     "output_type": "error",
     "traceback": [
      "\u001b[1;31mRunning cells with 'Python 3.9.13 ('tfproba')' requires ipykernel package.\n",
      "Run the following command to install 'ipykernel' into the Python environment. \n",
      "Command: 'conda install -n tfproba ipykernel --update-deps --force-reinstall'"
     ]
    },
    {
     "ename": "",
     "evalue": "",
     "output_type": "error",
     "traceback": [
      "\u001b[1;31mRunning cells with 'Python 3.9.13 ('tfproba')' requires ipykernel package.\n",
      "Run the following command to install 'ipykernel' into the Python environment. \n",
      "Command: 'conda install -n tfproba ipykernel --update-deps --force-reinstall'"
     ]
    }
   ],
   "source": [
    "history = model.fit(dataset.x_train, dataset.y_train, epochs=EPOCHS)"
   ]
  }
 ],
 "metadata": {
  "kernelspec": {
   "display_name": "Python 3.9.13 ('tfproba')",
   "language": "python",
   "name": "python3"
  },
  "language_info": {
   "codemirror_mode": {
    "name": "ipython",
    "version": 3
   },
   "file_extension": ".py",
   "mimetype": "text/x-python",
   "name": "python",
   "nbconvert_exporter": "python",
   "pygments_lexer": "ipython3",
   "version": "3.9.13"
  },
  "orig_nbformat": 4,
  "vscode": {
   "interpreter": {
    "hash": "436b4fcf59259da6dc58e7cba2c0763a6ef61d3e8a386de76ee8b72546013833"
   }
  }
 },
 "nbformat": 4,
 "nbformat_minor": 2
}
