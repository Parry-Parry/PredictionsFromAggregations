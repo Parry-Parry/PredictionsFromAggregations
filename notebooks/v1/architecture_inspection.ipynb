{
 "cells": [
  {
   "cell_type": "code",
   "execution_count": 1,
   "metadata": {},
   "outputs": [],
   "source": [
    "import os\n",
    "import argparse\n",
    "import logging\n",
    "from pathlib import Path, PurePath\n",
    "from collections import defaultdict\n",
    "from src.models.lstm_based.base_model import convnet, epsilon_3_model, epsilon_5_model, epsilon_model\n",
    "\n",
    "from src.models.structures import *\n",
    "from src.models.intermediate_robust_generator.model import *\n",
    "\n",
    "import tensorflow as tf\n",
    "import tensorflow.keras as tfk\n",
    "import tensorflow_addons as tfa\n",
    "\n",
    "import numpy as np"
   ]
  },
  {
   "cell_type": "code",
   "execution_count": 2,
   "metadata": {},
   "outputs": [],
   "source": [
    "LEARNING_RATE = 0.0001\n",
    "BATCH_SIZE = 128\n",
    "shape = (60000, 28, 28, 1)\n",
    "n_classes = 10"
   ]
  },
  {
   "cell_type": "code",
   "execution_count": 3,
   "metadata": {},
   "outputs": [],
   "source": [
    "intermed = (28, 28, 1)\n",
    "intermediate = convnet"
   ]
  },
  {
   "cell_type": "code",
   "execution_count": 4,
   "metadata": {},
   "outputs": [],
   "source": [
    "config = generator_config((BATCH_SIZE, 28, 28, 1), 10, n_classes, 4, intermediate, None)"
   ]
  },
  {
   "cell_type": "code",
   "execution_count": 5,
   "metadata": {},
   "outputs": [],
   "source": [
    "optim = tfk.optimizers.Adam(learning_rate=LEARNING_RATE)\n",
    "loss_fn = tfk.losses.CategoricalCrossentropy()"
   ]
  },
  {
   "cell_type": "code",
   "execution_count": 6,
   "metadata": {},
   "outputs": [],
   "source": [
    "model_3 = epsilon_3_model(config)\n",
    "model_5 = epsilon_5_model(config)\n",
    "model_n = epsilon_model(config)"
   ]
  },
  {
   "cell_type": "code",
   "execution_count": 7,
   "metadata": {},
   "outputs": [
    {
     "ename": "ValueError",
     "evalue": "You cannot build your model by calling `build` if your layers do not support float type inputs. Instead, in order to instantiate and build your model, call your model on real tensor data (of the correct dtype).\n\nThe actual error from `call` is: single_epsilon_generator.__init__() missing 2 required positional arguments: 'in_dim' and 'n_classes'.",
     "output_type": "error",
     "traceback": [
      "\u001b[1;31m---------------------------------------------------------------------------\u001b[0m",
      "\u001b[1;31mTypeError\u001b[0m                                 Traceback (most recent call last)",
      "File \u001b[1;32mc:\\Users\\0andr\\.conda\\envs\\tfAgg\\lib\\site-packages\\keras\\engine\\training.py:449\u001b[0m, in \u001b[0;36mModel.build\u001b[1;34m(self, input_shape)\u001b[0m\n\u001b[0;32m    448\u001b[0m \u001b[39mtry\u001b[39;00m:\n\u001b[1;32m--> 449\u001b[0m   \u001b[39mself\u001b[39m\u001b[39m.\u001b[39mcall(x, \u001b[39m*\u001b[39m\u001b[39m*\u001b[39mkwargs)\n\u001b[0;32m    450\u001b[0m \u001b[39mexcept\u001b[39;00m (tf\u001b[39m.\u001b[39merrors\u001b[39m.\u001b[39mInvalidArgumentError, \u001b[39mTypeError\u001b[39;00m) \u001b[39mas\u001b[39;00m e:\n",
      "File \u001b[1;32mc:\\Users\\0andr\\.conda\\envs\\tfAgg\\lib\\site-packages\\src-0.1.0-py3.10.egg\\src\\models\\lstm_based\\base_model.py:50\u001b[0m, in \u001b[0;36mepsilon_model.call\u001b[1;34m(self, input_tensor)\u001b[0m\n\u001b[0;32m     49\u001b[0m \u001b[39mdef\u001b[39;00m \u001b[39mcall\u001b[39m(\u001b[39mself\u001b[39m, input_tensor):\n\u001b[1;32m---> 50\u001b[0m     intermediate_values \u001b[39m=\u001b[39m \u001b[39mself\u001b[39;49m\u001b[39m.\u001b[39;49mgenerators(input_tensor)\n\u001b[0;32m     51\u001b[0m     merged \u001b[39m=\u001b[39m tf\u001b[39m.\u001b[39mmath\u001b[39m.\u001b[39mreduce_mean(intermediate_values, axis\u001b[39m=\u001b[39m\u001b[39m0\u001b[39m)\n",
      "File \u001b[1;32mc:\\Users\\0andr\\.conda\\envs\\tfAgg\\lib\\site-packages\\keras\\utils\\traceback_utils.py:67\u001b[0m, in \u001b[0;36mfilter_traceback.<locals>.error_handler\u001b[1;34m(*args, **kwargs)\u001b[0m\n\u001b[0;32m     66\u001b[0m   filtered_tb \u001b[39m=\u001b[39m _process_traceback_frames(e\u001b[39m.\u001b[39m__traceback__)\n\u001b[1;32m---> 67\u001b[0m   \u001b[39mraise\u001b[39;00m e\u001b[39m.\u001b[39mwith_traceback(filtered_tb) \u001b[39mfrom\u001b[39;00m \u001b[39mNone\u001b[39m\n\u001b[0;32m     68\u001b[0m \u001b[39mfinally\u001b[39;00m:\n",
      "File \u001b[1;32mc:\\Users\\0andr\\.conda\\envs\\tfAgg\\lib\\site-packages\\keras\\engine\\base_layer.py:783\u001b[0m, in \u001b[0;36mLayer.from_config\u001b[1;34m(cls, config)\u001b[0m\n\u001b[0;32m    769\u001b[0m \u001b[39m\"\"\"Creates a layer from its config.\u001b[39;00m\n\u001b[0;32m    770\u001b[0m \n\u001b[0;32m    771\u001b[0m \u001b[39mThis method is the reverse of `get_config`,\u001b[39;00m\n\u001b[1;32m   (...)\u001b[0m\n\u001b[0;32m    781\u001b[0m \u001b[39m    A layer instance.\u001b[39;00m\n\u001b[0;32m    782\u001b[0m \u001b[39m\"\"\"\u001b[39;00m\n\u001b[1;32m--> 783\u001b[0m \u001b[39mreturn\u001b[39;00m \u001b[39mcls\u001b[39m(\u001b[39m*\u001b[39m\u001b[39m*\u001b[39mconfig)\n",
      "\u001b[1;31mTypeError\u001b[0m: single_epsilon_generator.__init__() missing 2 required positional arguments: 'in_dim' and 'n_classes'",
      "\nDuring handling of the above exception, another exception occurred:\n",
      "\u001b[1;31mValueError\u001b[0m                                Traceback (most recent call last)",
      "\u001b[1;32mc:\\Users\\0andr\\OneDrive\\Documents\\Summer2022\\PredictionsFromAggregations\\notebooks\\v1\\architecture_inspection.ipynb Cell 7\u001b[0m in \u001b[0;36m<cell line: 2>\u001b[1;34m()\u001b[0m\n\u001b[0;32m      <a href='vscode-notebook-cell:/c%3A/Users/0andr/OneDrive/Documents/Summer2022/PredictionsFromAggregations/notebooks/v1/architecture_inspection.ipynb#ch0000008?line=0'>1</a>\u001b[0m model_n\u001b[39m.\u001b[39mcompile(optimizer\u001b[39m=\u001b[39moptim, loss\u001b[39m=\u001b[39mloss_fn)\n\u001b[1;32m----> <a href='vscode-notebook-cell:/c%3A/Users/0andr/OneDrive/Documents/Summer2022/PredictionsFromAggregations/notebooks/v1/architecture_inspection.ipynb#ch0000008?line=1'>2</a>\u001b[0m model_n\u001b[39m.\u001b[39;49mbuild((\u001b[39m128\u001b[39;49m, \u001b[39m28\u001b[39;49m, \u001b[39m28\u001b[39;49m, \u001b[39m1\u001b[39;49m))\n\u001b[0;32m      <a href='vscode-notebook-cell:/c%3A/Users/0andr/OneDrive/Documents/Summer2022/PredictionsFromAggregations/notebooks/v1/architecture_inspection.ipynb#ch0000008?line=2'>3</a>\u001b[0m model_n\u001b[39m.\u001b[39msummary()\n",
      "File \u001b[1;32mc:\\Users\\0andr\\.conda\\envs\\tfAgg\\lib\\site-packages\\keras\\engine\\training.py:451\u001b[0m, in \u001b[0;36mModel.build\u001b[1;34m(self, input_shape)\u001b[0m\n\u001b[0;32m    449\u001b[0m       \u001b[39mself\u001b[39m\u001b[39m.\u001b[39mcall(x, \u001b[39m*\u001b[39m\u001b[39m*\u001b[39mkwargs)\n\u001b[0;32m    450\u001b[0m     \u001b[39mexcept\u001b[39;00m (tf\u001b[39m.\u001b[39merrors\u001b[39m.\u001b[39mInvalidArgumentError, \u001b[39mTypeError\u001b[39;00m) \u001b[39mas\u001b[39;00m e:\n\u001b[1;32m--> 451\u001b[0m       \u001b[39mraise\u001b[39;00m \u001b[39mValueError\u001b[39;00m(\u001b[39m'\u001b[39m\u001b[39mYou cannot build your model by calling `build` \u001b[39m\u001b[39m'\u001b[39m\n\u001b[0;32m    452\u001b[0m                        \u001b[39m'\u001b[39m\u001b[39mif your layers do not support float type inputs. \u001b[39m\u001b[39m'\u001b[39m\n\u001b[0;32m    453\u001b[0m                        \u001b[39m'\u001b[39m\u001b[39mInstead, in order to instantiate and build your \u001b[39m\u001b[39m'\u001b[39m\n\u001b[0;32m    454\u001b[0m                        \u001b[39m'\u001b[39m\u001b[39mmodel, call your model on real tensor data (of \u001b[39m\u001b[39m'\u001b[39m\n\u001b[0;32m    455\u001b[0m                        \u001b[39m'\u001b[39m\u001b[39mthe correct dtype).\u001b[39m\u001b[39m\\n\u001b[39;00m\u001b[39m\\n\u001b[39;00m\u001b[39mThe actual error from \u001b[39m\u001b[39m'\u001b[39m\n\u001b[0;32m    456\u001b[0m                        \u001b[39mf\u001b[39m\u001b[39m'\u001b[39m\u001b[39m`call` is: \u001b[39m\u001b[39m{\u001b[39;00me\u001b[39m}\u001b[39;00m\u001b[39m.\u001b[39m\u001b[39m'\u001b[39m)\n\u001b[0;32m    457\u001b[0m \u001b[39msuper\u001b[39m(Model, \u001b[39mself\u001b[39m)\u001b[39m.\u001b[39mbuild(input_shape)\n",
      "\u001b[1;31mValueError\u001b[0m: You cannot build your model by calling `build` if your layers do not support float type inputs. Instead, in order to instantiate and build your model, call your model on real tensor data (of the correct dtype).\n\nThe actual error from `call` is: single_epsilon_generator.__init__() missing 2 required positional arguments: 'in_dim' and 'n_classes'."
     ]
    }
   ],
   "source": [
    "model_n.compile(optimizer=optim, loss=loss_fn)\n",
    "model_n.build((128, 28, 28, 1))\n",
    "model_n.summary()"
   ]
  },
  {
   "cell_type": "code",
   "execution_count": 8,
   "metadata": {},
   "outputs": [
    {
     "name": "stdout",
     "output_type": "stream",
     "text": [
      "Model: \"\"\n",
      "_________________________________________________________________\n",
      " Layer (type)                Output Shape              Param #   \n",
      "=================================================================\n",
      " single_epsilon_generator_3   multiple                 1676266   \n",
      " (single_epsilon_generator)                                      \n",
      "                                                                 \n",
      " single_epsilon_generator_4   multiple                 1676266   \n",
      " (single_epsilon_generator)                                      \n",
      "                                                                 \n",
      " single_epsilon_generator_5   multiple                 1676266   \n",
      " (single_epsilon_generator)                                      \n",
      "                                                                 \n",
      " single_epsilon_generator_6   multiple                 1676266   \n",
      " (single_epsilon_generator)                                      \n",
      "                                                                 \n",
      " single_epsilon_generator_7   multiple                 1676266   \n",
      " (single_epsilon_generator)                                      \n",
      "                                                                 \n",
      " dense_9 (Dense)             multiple                  110       \n",
      "                                                                 \n",
      "=================================================================\n",
      "Total params: 8,381,440\n",
      "Trainable params: 8,381,440\n",
      "Non-trainable params: 0\n",
      "_________________________________________________________________\n"
     ]
    }
   ],
   "source": [
    "model_5.compile(optimizer=optim, loss=loss_fn)\n",
    "model_5.build((128, 28, 28, 1))\n",
    "model_5.summary()"
   ]
  },
  {
   "cell_type": "code",
   "execution_count": 9,
   "metadata": {},
   "outputs": [
    {
     "name": "stdout",
     "output_type": "stream",
     "text": [
      "Model: \"\"\n",
      "_________________________________________________________________\n",
      " Layer (type)                Output Shape              Param #   \n",
      "=================================================================\n",
      " single_epsilon_generator (s  multiple                 1676266   \n",
      " ingle_epsilon_generator)                                        \n",
      "                                                                 \n",
      " single_epsilon_generator_1   multiple                 1676266   \n",
      " (single_epsilon_generator)                                      \n",
      "                                                                 \n",
      " single_epsilon_generator_2   multiple                 1676266   \n",
      " (single_epsilon_generator)                                      \n",
      "                                                                 \n",
      " dense_3 (Dense)             multiple                  110       \n",
      "                                                                 \n",
      "=================================================================\n",
      "Total params: 5,028,908\n",
      "Trainable params: 5,028,908\n",
      "Non-trainable params: 0\n",
      "_________________________________________________________________\n"
     ]
    }
   ],
   "source": [
    "model_3.compile(optimizer=optim, loss=loss_fn)\n",
    "model_3.build((128, 28, 28, 1))\n",
    "model_3.summary()"
   ]
  }
 ],
 "metadata": {
  "kernelspec": {
   "display_name": "Python 3.10.4 ('tfAgg')",
   "language": "python",
   "name": "python3"
  },
  "language_info": {
   "codemirror_mode": {
    "name": "ipython",
    "version": 3
   },
   "file_extension": ".py",
   "mimetype": "text/x-python",
   "name": "python",
   "nbconvert_exporter": "python",
   "pygments_lexer": "ipython3",
   "version": "3.10.5"
  },
  "orig_nbformat": 4,
  "vscode": {
   "interpreter": {
    "hash": "b22786d2b0b11bdb0fdfab5075ab8f1b5fb4cd94090080ab1a68a584e28dec7e"
   }
  }
 },
 "nbformat": 4,
 "nbformat_minor": 2
}
