{
 "cells": [
  {
   "cell_type": "code",
   "execution_count": 1,
   "metadata": {},
   "outputs": [],
   "source": [
    "import os\n",
    "import argparse\n",
    "import logging\n",
    "from pathlib import Path, PurePath\n",
    "from collections import defaultdict\n",
    "\n",
    "from src.models.layers.custom_layers import *\n",
    "\n",
    "from src.models.structures import *\n",
    "from src.models.intermediate_robust_generator.model import *\n",
    "\n",
    "import tensorflow as tf\n",
    "import tensorflow.keras as tfk\n",
    "import tensorflow_addons as tfa\n",
    "\n",
    "import numpy as np"
   ]
  },
  {
   "cell_type": "code",
   "execution_count": 2,
   "metadata": {},
   "outputs": [],
   "source": [
    "LEARNING_RATE = 0.0001\n",
    "BATCH_SIZE = 128\n",
    "shape = (60000, 28, 28, 1)\n",
    "n_classes = 10"
   ]
  },
  {
   "cell_type": "code",
   "execution_count": 3,
   "metadata": {},
   "outputs": [],
   "source": [
    "intermed = (28, 28, 1)\n",
    "intermediate = convnet"
   ]
  },
  {
   "cell_type": "code",
   "execution_count": 4,
   "metadata": {},
   "outputs": [],
   "source": [
    "config = generator_config((BATCH_SIZE, 28, 28, 1), 10, n_classes, 4, intermediate, None)"
   ]
  },
  {
   "cell_type": "code",
   "execution_count": 5,
   "metadata": {},
   "outputs": [],
   "source": [
    "optim = tfk.optimizers.Adam(learning_rate=LEARNING_RATE)\n",
    "loss_fn = tfk.losses.CategoricalCrossentropy()"
   ]
  },
  {
   "cell_type": "code",
   "execution_count": 6,
   "metadata": {},
   "outputs": [],
   "source": [
    "model = generator_model(config)"
   ]
  },
  {
   "cell_type": "code",
   "execution_count": null,
   "metadata": {},
   "outputs": [],
   "source": []
  },
  {
   "cell_type": "code",
   "execution_count": 7,
   "metadata": {},
   "outputs": [],
   "source": [
    "model.build((128, 28, 28, 1))"
   ]
  },
  {
   "cell_type": "code",
   "execution_count": 9,
   "metadata": {},
   "outputs": [
    {
     "name": "stdout",
     "output_type": "stream",
     "text": [
      "Model: \"Generator Stack\"\n",
      "_________________________________________________________________\n",
      " Layer (type)                Output Shape              Param #   \n",
      "=================================================================\n",
      " generator0 (generator_block  multiple                 1676266   \n",
      " )                                                               \n",
      "                                                                 \n",
      " generator1 (generator_block  multiple                 1676266   \n",
      " )                                                               \n",
      "                                                                 \n",
      " generator2 (generator_block  multiple                 1676266   \n",
      " )                                                               \n",
      "                                                                 \n",
      " generator3 (generator_block  multiple                 1676266   \n",
      " )                                                               \n",
      "                                                                 \n",
      " generator4 (generator_block  multiple                 1676266   \n",
      " )                                                               \n",
      "                                                                 \n",
      " generator5 (generator_block  multiple                 1676266   \n",
      " )                                                               \n",
      "                                                                 \n",
      " generator6 (generator_block  multiple                 1676266   \n",
      " )                                                               \n",
      "                                                                 \n",
      " generator7 (generator_block  multiple                 1676266   \n",
      " )                                                               \n",
      "                                                                 \n",
      " generator8 (generator_block  multiple                 1676266   \n",
      " )                                                               \n",
      "                                                                 \n",
      " generator9 (generator_block  multiple                 1676266   \n",
      " )                                                               \n",
      "                                                                 \n",
      "=================================================================\n",
      "Total params: 16,762,660\n",
      "Trainable params: 16,762,660\n",
      "Non-trainable params: 0\n",
      "_________________________________________________________________\n"
     ]
    }
   ],
   "source": [
    "model.summary()"
   ]
  },
  {
   "cell_type": "code",
   "execution_count": 8,
   "metadata": {},
   "outputs": [
    {
     "ename": "NameError",
     "evalue": "name 'model_n' is not defined",
     "output_type": "error",
     "traceback": [
      "\u001b[1;31m---------------------------------------------------------------------------\u001b[0m",
      "\u001b[1;31mNameError\u001b[0m                                 Traceback (most recent call last)",
      "\u001b[1;32mc:\\Users\\0andr\\OneDrive\\Documents\\Summer2022\\PredictionsFromAggregations\\notebooks\\v1\\architecture_inspection.ipynb Cell 8\u001b[0m in \u001b[0;36m<cell line: 1>\u001b[1;34m()\u001b[0m\n\u001b[1;32m----> <a href='vscode-notebook-cell:/c%3A/Users/0andr/OneDrive/Documents/Summer2022/PredictionsFromAggregations/notebooks/v1/architecture_inspection.ipynb#ch0000006?line=0'>1</a>\u001b[0m model_n\u001b[39m.\u001b[39mcompile(optimizer\u001b[39m=\u001b[39moptim, loss\u001b[39m=\u001b[39mloss_fn)\n\u001b[0;32m      <a href='vscode-notebook-cell:/c%3A/Users/0andr/OneDrive/Documents/Summer2022/PredictionsFromAggregations/notebooks/v1/architecture_inspection.ipynb#ch0000006?line=1'>2</a>\u001b[0m model_n\u001b[39m.\u001b[39mbuild((\u001b[39m128\u001b[39m, \u001b[39m28\u001b[39m, \u001b[39m28\u001b[39m, \u001b[39m1\u001b[39m))\n\u001b[0;32m      <a href='vscode-notebook-cell:/c%3A/Users/0andr/OneDrive/Documents/Summer2022/PredictionsFromAggregations/notebooks/v1/architecture_inspection.ipynb#ch0000006?line=2'>3</a>\u001b[0m model_n\u001b[39m.\u001b[39msummary()\n",
      "\u001b[1;31mNameError\u001b[0m: name 'model_n' is not defined"
     ]
    }
   ],
   "source": [
    "model_n.compile(optimizer=optim, loss=loss_fn)\n",
    "model_n.build((128, 28, 28, 1))\n",
    "model_n.summary()"
   ]
  },
  {
   "cell_type": "code",
   "execution_count": null,
   "metadata": {},
   "outputs": [
    {
     "name": "stdout",
     "output_type": "stream",
     "text": [
      "Model: \"\"\n",
      "_________________________________________________________________\n",
      " Layer (type)                Output Shape              Param #   \n",
      "=================================================================\n",
      " single_epsilon_generator_3   multiple                 1676266   \n",
      " (single_epsilon_generator)                                      \n",
      "                                                                 \n",
      " single_epsilon_generator_4   multiple                 1676266   \n",
      " (single_epsilon_generator)                                      \n",
      "                                                                 \n",
      " single_epsilon_generator_5   multiple                 1676266   \n",
      " (single_epsilon_generator)                                      \n",
      "                                                                 \n",
      " single_epsilon_generator_6   multiple                 1676266   \n",
      " (single_epsilon_generator)                                      \n",
      "                                                                 \n",
      " single_epsilon_generator_7   multiple                 1676266   \n",
      " (single_epsilon_generator)                                      \n",
      "                                                                 \n",
      " dense_9 (Dense)             multiple                  110       \n",
      "                                                                 \n",
      "=================================================================\n",
      "Total params: 8,381,440\n",
      "Trainable params: 8,381,440\n",
      "Non-trainable params: 0\n",
      "_________________________________________________________________\n"
     ]
    }
   ],
   "source": [
    "model_5.compile(optimizer=optim, loss=loss_fn)\n",
    "model_5.build((128, 28, 28, 1))\n",
    "model_5.summary()"
   ]
  },
  {
   "cell_type": "code",
   "execution_count": null,
   "metadata": {},
   "outputs": [
    {
     "name": "stdout",
     "output_type": "stream",
     "text": [
      "Model: \"\"\n",
      "_________________________________________________________________\n",
      " Layer (type)                Output Shape              Param #   \n",
      "=================================================================\n",
      " single_epsilon_generator (s  multiple                 1676266   \n",
      " ingle_epsilon_generator)                                        \n",
      "                                                                 \n",
      " single_epsilon_generator_1   multiple                 1676266   \n",
      " (single_epsilon_generator)                                      \n",
      "                                                                 \n",
      " single_epsilon_generator_2   multiple                 1676266   \n",
      " (single_epsilon_generator)                                      \n",
      "                                                                 \n",
      " dense_3 (Dense)             multiple                  110       \n",
      "                                                                 \n",
      "=================================================================\n",
      "Total params: 5,028,908\n",
      "Trainable params: 5,028,908\n",
      "Non-trainable params: 0\n",
      "_________________________________________________________________\n"
     ]
    }
   ],
   "source": [
    "model_3.compile(optimizer=optim, loss=loss_fn)\n",
    "model_3.build((128, 28, 28, 1))\n",
    "model_3.summary()"
   ]
  }
 ],
 "metadata": {
  "kernelspec": {
   "display_name": "Python 3.10.4 ('tfAgg')",
   "language": "python",
   "name": "python3"
  },
  "language_info": {
   "codemirror_mode": {
    "name": "ipython",
    "version": 3
   },
   "file_extension": ".py",
   "mimetype": "text/x-python",
   "name": "python",
   "nbconvert_exporter": "python",
   "pygments_lexer": "ipython3",
   "version": "3.10.5"
  },
  "orig_nbformat": 4,
  "vscode": {
   "interpreter": {
    "hash": "b22786d2b0b11bdb0fdfab5075ab8f1b5fb4cd94090080ab1a68a584e28dec7e"
   }
  }
 },
 "nbformat": 4,
 "nbformat_minor": 2
}
