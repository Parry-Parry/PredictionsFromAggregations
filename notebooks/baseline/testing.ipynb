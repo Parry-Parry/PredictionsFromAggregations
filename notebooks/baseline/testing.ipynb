{
 "cells": [
  {
   "cell_type": "markdown",
   "metadata": {},
   "source": [
    "# Verification of Thesis Results"
   ]
  },
  {
   "cell_type": "markdown",
   "metadata": {},
   "source": [
    "## Imports "
   ]
  },
  {
   "cell_type": "code",
   "execution_count": 35,
   "metadata": {},
   "outputs": [],
   "source": [
    "import pathlib\n",
    "from pathlib import Path\n",
    "import sys"
   ]
  },
  {
   "cell_type": "code",
   "execution_count": 36,
   "metadata": {},
   "outputs": [],
   "source": [
    "cwd = Path(os.getcwd())\n",
    "root = cwd.parent.parent\n",
    "data = pathlib.PurePath(root, 'data')\n",
    "history = pathlib.PurePath(data, 'history')\n",
    "interim = pathlib.PurePath(data, 'interim')\n",
    "results = pathlib.PurePath(data, 'results', 'thesis')"
   ]
  },
  {
   "cell_type": "code",
   "execution_count": 37,
   "metadata": {},
   "outputs": [
    {
     "ename": "ModuleNotFoundError",
     "evalue": "No module named 'src'",
     "output_type": "error",
     "traceback": [
      "\u001b[1;31m---------------------------------------------------------------------------\u001b[0m",
      "\u001b[1;31mModuleNotFoundError\u001b[0m                       Traceback (most recent call last)",
      "\u001b[1;32md:\\SUMMER 2022\\PROJECT\\PredictionsFromAggregations\\notebooks\\baseline\\testing.ipynb Cell 5'\u001b[0m in \u001b[0;36m<cell line: 1>\u001b[1;34m()\u001b[0m\n\u001b[1;32m----> <a href='vscode-notebook-cell:/d%3A/SUMMER%202022/PROJECT/PredictionsFromAggregations/notebooks/baseline/testing.ipynb#ch0000056?line=0'>1</a>\u001b[0m \u001b[39mfrom\u001b[39;00m \u001b[39msrc\u001b[39;00m\u001b[39m.\u001b[39;00m\u001b[39mmodels\u001b[39;00m\u001b[39m.\u001b[39;00m\u001b[39mbaseline\u001b[39;00m \u001b[39mimport\u001b[39;00m thesis_verification \u001b[39mas\u001b[39;00m tv\n",
      "\u001b[1;31mModuleNotFoundError\u001b[0m: No module named 'src'"
     ]
    }
   ],
   "source": [
    "from src.models.baseline.thesis_verification import *"
   ]
  },
  {
   "cell_type": "code",
   "execution_count": null,
   "metadata": {},
   "outputs": [],
   "source": [
    "test_param_grid ={\n",
    "    1 : {\n",
    "        'K' : [50, 100, 200, 500, 1000],\n",
    "        'epsilon' : 0.01\n",
    "    },\n",
    "    2 : {\n",
    "        'K' : 1000,\n",
    "        'epsilon' : [0.01, 0.05, 0.1, 1.0]\n",
    "    }\n",
    "}\n",
    "\n",
    "model_param_grid = {\n",
    "    'MNIST' : {\n",
    "        'batch_size' : 1000,\n",
    "        'epochs' : 15,\n",
    "        'save_history' : False,\n",
    "        'path' : history\n",
    "    },\n",
    "    'CIFAR10' : {\n",
    "        'batch_size' : 64,\n",
    "        'epochs' : 30,\n",
    "        'save_history' : False,\n",
    "        'path' : history\n",
    "    },\n",
    "    'CIFAR100' : {\n",
    "        'batch_size' : 64,\n",
    "        'epochs' : 30,\n",
    "        'save_history' : False,\n",
    "        'path' : history\n",
    "    }\n",
    "}"
   ]
  },
  {
   "cell_type": "code",
   "execution_count": null,
   "metadata": {},
   "outputs": [],
   "source": [
    "datasets = {\n",
    "    'MNIST' : {\n",
    "        'data' : dataset_normalize(mnist.load_data(path='mnist.npz')),\n",
    "        'shape' : (28, 28, 1)\n",
    "        },\n",
    "    'CIFAR10' : {\n",
    "        'data' : dataset_normalize(cifar10.load_data(path='cifar10.npz')),\n",
    "        'shape' : (32, 32, 3) \n",
    "    },\n",
    "    'CIFAR100' : {\n",
    "        'data' : dataset_normalize(cifar100.load_data(path='cifar100.npz')),\n",
    "        'shape' : (32, 32, 3) \n",
    "    }\n",
    "}"
   ]
  },
  {
   "cell_type": "code",
   "execution_count": null,
   "metadata": {},
   "outputs": [],
   "source": [
    "results1 = pd.DataFrame()"
   ]
  },
  {
   "cell_type": "code",
   "execution_count": null,
   "metadata": {},
   "outputs": [],
   "source": [
    "partition_dir = \"\"\n",
    "seed = 8008"
   ]
  },
  {
   "cell_type": "code",
   "execution_count": null,
   "metadata": {},
   "outputs": [],
   "source": [
    "for key, v in datasets.items():\n",
    "    x_train = v['data']['x_train']\n",
    "    x_test = v['data']['x_test']\n",
    "    y_train = v['data']['y_train']\n",
    "    y_test = v['data']['y_test']\n",
    "\n",
    "    logging.info(\"Running Test 1 on {}...\".format(key))\n",
    "\n",
    "    for k in tqdm(test_param_grid[1]['K']):\n",
    "        if partition_dir:\n",
    "            dir = partition_dir + \"/\" + key + k + '_partitions.tsv'\n",
    "            logging.info(\"Loading Partitions for {} dataset with {} clusters\".format(key, k))\n",
    "            with open(dir) as f:\n",
    "                lines = f.readlines()\n",
    "            lines = [line.rstrip() for line in lines]\n",
    "            for line in lines:\n",
    "                tokens = line.split()\n",
    "                x_vec = np.zeros(len(tokens)-1)\n",
    "                for i in range(len(tokens)-1):\n",
    "                    x_vec[i] = float(tokens[i])\n",
    "\n",
    "                x.append(x_vec)\n",
    "                y.append(int(tokens[-1]))\n",
    "        else:\n",
    "            logging.info(\"Generating Partitions for {} dataset with {} clusters\".format(key, k))\n",
    "            x_vecs = flatten(x_train)\n",
    "            x, y = partition(x_vecs, k, SEED=seed, path=\"\", write_path=pathlib.PurePath(interim, key + k + '_partitions.tsv'))\n",
    "\n",
    "        kmeans = runKmeans(k,  (x_train, x_test), (y_train, y_test), v['shape'], model_param_grid[key])\n",
    "        gauss, epsilon, complete = runTest(k, test_param_grid[1]['epsilon'], (x_train, x_test), (y_train, y_test), (x, y), v['shape'], model_param_grid[key], partition_out=pathlib.PurePath(data, 'interim', str(k) + key + '_partitions.tsv'))\n",
    "        \n",
    "        sets = [kmeans, gauss, epsilon, complete]\n",
    "        for set in sets:\n",
    "            set['dataset'] = key\n",
    "            set['K'] = k\n",
    "            results1.append(set)\n",
    "\n",
    "    logging.info(\"Test 1 Completed Successfully\")"
   ]
  },
  {
   "cell_type": "code",
   "execution_count": null,
   "metadata": {},
   "outputs": [],
   "source": [
    "results2 = pd.DataFrame()"
   ]
  },
  {
   "cell_type": "code",
   "execution_count": null,
   "metadata": {},
   "outputs": [],
   "source": [
    "logging.info(\"Running Test 2 on {}...\".format(key))\n",
    "\n",
    "for e in tqdm(test_param_grid[2]['epsilon']): # TODO: Make function run test 1 or test 2\n",
    "    _, results, _ = runTest(test_param_grid[2]['K'], e, (x_train, x_test), (y_train, y_test), (x, y), v['shape'], model_param_grid[key], partition_out=pathlib.PurePath(data, 'interim', str(k) + key + '_partitions.tsv'))\n",
    "    results['dataset'] = key\n",
    "    results['Epsilon'] = e\n",
    "\n",
    "    results2.append(results)\n",
    "\n",
    "logging.info(\"Test 2 Completed Successfully\")"
   ]
  },
  {
   "cell_type": "code",
   "execution_count": null,
   "metadata": {},
   "outputs": [],
   "source": [
    "logging.info(\"Saving Results...\")\n",
    "\n",
    "results1.to_csv(pathlib.PurePath(results, 'test1.csv'))\n",
    "results2.to_csv(pathlib.PurePath(results, 'test2.csv'))"
   ]
  }
 ],
 "metadata": {
  "interpreter": {
   "hash": "c4e57a4fbbe7b238f2d8f4c3c5c55f142d3bab0a64ef0692cc7fcf686c333830"
  },
  "kernelspec": {
   "display_name": "Python 3.9.12 ('tf')",
   "language": "python",
   "name": "python3"
  },
  "language_info": {
   "codemirror_mode": {
    "name": "ipython",
    "version": 3
   },
   "file_extension": ".py",
   "mimetype": "text/x-python",
   "name": "python",
   "nbconvert_exporter": "python",
   "pygments_lexer": "ipython3",
   "version": "3.9.12"
  },
  "orig_nbformat": 4
 },
 "nbformat": 4,
 "nbformat_minor": 2
}
