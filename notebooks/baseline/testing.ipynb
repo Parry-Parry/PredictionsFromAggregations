{
 "cells": [
  {
   "cell_type": "markdown",
   "metadata": {},
   "source": [
    "# Verification of Thesis Results"
   ]
  },
  {
   "cell_type": "markdown",
   "metadata": {},
   "source": [
    "## Imports"
   ]
  },
  {
   "cell_type": "code",
   "execution_count": 2,
   "metadata": {},
   "outputs": [],
   "source": [
    "import sys\n",
    "import os\n",
    "import pathlib\n",
    "from pathlib import Path\n",
    "import sklearn\n",
    "import pandas as pd\n",
    "import numpy as np\n",
    "from tensorflow import keras\n",
    "from tensorflow.keras import layers\n",
    "from tensorflow.keras.datasets import cifar100, cifar10, mnist\n",
    "\n",
    "from ...src.models.baseline.helper import *"
   ]
  },
  {
   "cell_type": "markdown",
   "metadata": {},
   "source": [
    "## Directory Information"
   ]
  },
  {
   "cell_type": "code",
   "execution_count": 6,
   "metadata": {},
   "outputs": [],
   "source": [
    "cwd = Path(os.getcwd())\n",
    "root = cwd.parent.parent\n",
    "data = pathlib.PurePath(root, 'data')"
   ]
  },
  {
   "cell_type": "markdown",
   "metadata": {},
   "source": [
    "## Parameter Grid\n",
    "\n",
    "### First Test (Variable K)\n",
    "* K = [50, 100, 200, 500, 1000]\n",
    "* $\\epsilon$ = 0.01\n",
    "\n",
    "### Second Test (Variable $\\epsilon$)\n",
    "* K = 1000\n",
    "* $\\epsilon$ = [0.01, 0.05, 0.1, 1.0]\n"
   ]
  },
  {
   "cell_type": "code",
   "execution_count": null,
   "metadata": {},
   "outputs": [],
   "source": [
    "test_param_grid ={\n",
    "    1 : {\n",
    "        'K' : [50, 100, 200, 500, 1000],\n",
    "        'epsilon' : 0.01\n",
    "    },\n",
    "    2 : {\n",
    "        'K' : 1000,\n",
    "        'epsilon' : [0.01, 0.05, 0.1, 1.0]\n",
    "    }\n",
    "}"
   ]
  },
  {
   "cell_type": "markdown",
   "metadata": {},
   "source": [
    "### Model Parameters\n",
    "\n",
    "Complete Information uses same model as CIFAR"
   ]
  },
  {
   "cell_type": "code",
   "execution_count": null,
   "metadata": {},
   "outputs": [],
   "source": [
    "model_param_grid = {\n",
    "    'MNIST' : {\n",
    "        'batch_size' : 1000,\n",
    "        'epochs' : 15\n",
    "    },\n",
    "    'CIFAR' : {\n",
    "        'batch_size' : 64,\n",
    "        'epochs' : 30\n",
    "    }\n",
    "}"
   ]
  },
  {
   "cell_type": "markdown",
   "metadata": {},
   "source": [
    "## Load Data\n",
    "\n",
    "* MNIST\n",
    "* CIFAR 10\n",
    "* CIFAR 100"
   ]
  },
  {
   "cell_type": "code",
   "execution_count": null,
   "metadata": {},
   "outputs": [],
   "source": [
    "datasets = {\n",
    "    'MNIST' : dataset_normalize(mnist.load_data()),\n",
    "    'CIFAR10' : dataset_normalize(cifar10.load_data()),\n",
    "    'CIFAR100' : dataset_normalize(cifar100.load_data())\n",
    "}"
   ]
  },
  {
   "cell_type": "markdown",
   "metadata": {},
   "source": [
    "## Constants"
   ]
  },
  {
   "cell_type": "code",
   "execution_count": null,
   "metadata": {},
   "outputs": [],
   "source": [
    "mnist_shape = (28, 28, 1)\n",
    "cifar_shape = (32, 32, 3) \n",
    "\n",
    "seed = 8008"
   ]
  },
  {
   "cell_type": "markdown",
   "metadata": {},
   "source": [
    "## Strategy 1"
   ]
  },
  {
   "cell_type": "markdown",
   "metadata": {},
   "source": [
    "## MNIST"
   ]
  },
  {
   "cell_type": "code",
   "execution_count": null,
   "metadata": {},
   "outputs": [],
   "source": [
    "mnist_results = pd.Dataframe()"
   ]
  },
  {
   "cell_type": "markdown",
   "metadata": {},
   "source": [
    "### K-Means Baseline\n"
   ]
  },
  {
   "cell_type": "code",
   "execution_count": null,
   "metadata": {},
   "outputs": [],
   "source": [
    "x_train = np.expand_dims(datasets['MNIST']['x_train'], -1)\n",
    "x_test = np.expand_dims(datasets['MNIST']['x_test'], -1)\n",
    "y_train = datasets['MNIST']['y_train']\n",
    "y_test = datasets['MNIST']['y_test']"
   ]
  },
  {
   "cell_type": "code",
   "execution_count": null,
   "metadata": {},
   "outputs": [],
   "source": [
    "x_train = x_train.reshape(len(x_train), -1)"
   ]
  },
  {
   "cell_type": "code",
   "execution_count": null,
   "metadata": {},
   "outputs": [],
   "source": [
    "for K in test_param_grid[1]['K']:\n",
    "    result = runKmeans1(K, (x_train, x_test), (y_train, y_test), mnist_shape)"
   ]
  },
  {
   "cell_type": "markdown",
   "metadata": {},
   "source": [
    "### Neighbourhood Intermediate Calulations"
   ]
  },
  {
   "cell_type": "code",
   "execution_count": null,
   "metadata": {},
   "outputs": [],
   "source": [
    "x_train = flatten(datasets['MNIST']['x_train'])\n",
    "y_train = datasets['MNIST']['y_train']"
   ]
  },
  {
   "cell_type": "code",
   "execution_count": null,
   "metadata": {},
   "outputs": [],
   "source": [
    "partitions = {}\n",
    "interim_store = pathlib.PurePath(data, 'interim')\n",
    "\n",
    "for K in test_param_grid[1]['K']:\n",
    "    store = pathlib.PurePath(interim_store, str(K) + '_MNISTpartitions.tsv')\n",
    "    partitions[K] = partition(x_train, K, SEED=seed, write_path=store)"
   ]
  },
  {
   "cell_type": "markdown",
   "metadata": {},
   "source": [
    "### Gaussian Neighbourhood"
   ]
  },
  {
   "cell_type": "markdown",
   "metadata": {},
   "source": [
    "### $\\epsilon$ Neighbourhood"
   ]
  },
  {
   "cell_type": "markdown",
   "metadata": {},
   "source": [
    "### Compilation"
   ]
  },
  {
   "cell_type": "markdown",
   "metadata": {},
   "source": [
    "## CIFAR 10"
   ]
  },
  {
   "cell_type": "code",
   "execution_count": null,
   "metadata": {},
   "outputs": [],
   "source": [
    "cifar10_results = pd.Dataframe()"
   ]
  },
  {
   "cell_type": "code",
   "execution_count": null,
   "metadata": {},
   "outputs": [],
   "source": [
    "x_train = flatten(datasets['CIFAR10']['x_train'])\n",
    "y_train = datasets['CIFAR10']['y_train']\n"
   ]
  },
  {
   "cell_type": "markdown",
   "metadata": {},
   "source": [
    "### K-Means Baseline\n"
   ]
  },
  {
   "cell_type": "code",
   "execution_count": null,
   "metadata": {},
   "outputs": [],
   "source": [
    "x_train = np.expand_dims(datasets['CIFAR10']['x_train'], -1)\n",
    "x_test = np.expand_dims(datasets['CIFAR10']['x_test'], -1)\n",
    "y_train = datasets['CIFAR10']['y_train']\n",
    "y_test = datasets['CIFAR10']['y_test']"
   ]
  },
  {
   "cell_type": "markdown",
   "metadata": {},
   "source": [
    "### Gaussian Neighbourhood"
   ]
  },
  {
   "cell_type": "markdown",
   "metadata": {},
   "source": [
    "### $\\epsilon$ Neighbourhood"
   ]
  },
  {
   "cell_type": "markdown",
   "metadata": {},
   "source": [
    "## CIFAR 100"
   ]
  },
  {
   "cell_type": "code",
   "execution_count": null,
   "metadata": {},
   "outputs": [],
   "source": [
    "cifar10_results = pd.Dataframe()"
   ]
  },
  {
   "cell_type": "code",
   "execution_count": null,
   "metadata": {},
   "outputs": [],
   "source": [
    "x_train = flatten(datasets['CIFAR100']['x_train'])\n",
    "y_train = datasets['CIFAR100']['y_train']\n"
   ]
  },
  {
   "cell_type": "markdown",
   "metadata": {},
   "source": [
    "### K-Means Baseline\n"
   ]
  },
  {
   "cell_type": "code",
   "execution_count": null,
   "metadata": {},
   "outputs": [],
   "source": [
    "x_train = np.expand_dims(datasets['CIFAR100']['x_train'], -1)\n",
    "x_test = np.expand_dims(datasets['CIFAR100']['x_test'], -1)\n",
    "y_train = datasets['CIFAR100']['y_train']\n",
    "y_test = datasets['CIFAR100']['y_test']"
   ]
  },
  {
   "cell_type": "markdown",
   "metadata": {},
   "source": [
    "### Gaussian Neighbourhood"
   ]
  },
  {
   "cell_type": "markdown",
   "metadata": {},
   "source": [
    "### $\\epsilon$ Neighbourhood"
   ]
  },
  {
   "cell_type": "markdown",
   "metadata": {},
   "source": [
    "## Strategy 2"
   ]
  },
  {
   "cell_type": "markdown",
   "metadata": {},
   "source": [
    "## MNIST"
   ]
  },
  {
   "cell_type": "markdown",
   "metadata": {},
   "source": [
    "## CIFAR 10"
   ]
  },
  {
   "cell_type": "markdown",
   "metadata": {},
   "source": [
    "## CIFAR 100"
   ]
  }
 ],
 "metadata": {
  "interpreter": {
   "hash": "c4e57a4fbbe7b238f2d8f4c3c5c55f142d3bab0a64ef0692cc7fcf686c333830"
  },
  "kernelspec": {
   "display_name": "Python 3.9.12 ('tf')",
   "language": "python",
   "name": "python3"
  },
  "language_info": {
   "codemirror_mode": {
    "name": "ipython",
    "version": 3
   },
   "file_extension": ".py",
   "mimetype": "text/x-python",
   "name": "python",
   "nbconvert_exporter": "python",
   "pygments_lexer": "ipython3",
   "version": "3.9.12"
  },
  "orig_nbformat": 4
 },
 "nbformat": 4,
 "nbformat_minor": 2
}
