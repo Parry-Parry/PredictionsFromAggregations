{
 "cells": [
  {
   "cell_type": "markdown",
   "metadata": {},
   "source": [
    "# Verification of Thesis Results"
   ]
  },
  {
   "cell_type": "markdown",
   "metadata": {},
   "source": [
    "## Imports "
   ]
  },
  {
   "cell_type": "code",
   "execution_count": 1,
   "metadata": {},
   "outputs": [],
   "source": [
    "import sys\n",
    "import os\n",
    "import pathlib\n",
    "from pathlib import Path\n",
    "\n",
    "import pandas as pd\n",
    "import numpy as np\n",
    "from tqdm import tqdm\n",
    "\n",
    "from src.models.baseline.kmeans import runKmeans\n",
    "from tensorflow.keras.datasets import cifar100, cifar10, mnist\n",
    "\n",
    "from src.models.baseline.helper import *"
   ]
  },
  {
   "cell_type": "markdown",
   "metadata": {},
   "source": [
    "## Required Paths"
   ]
  },
  {
   "cell_type": "code",
   "execution_count": 2,
   "metadata": {},
   "outputs": [],
   "source": [
    "cwd = Path(os.getcwd())\n",
    "root = cwd.parent.parent\n",
    "data = pathlib.PurePath(root, 'data')\n",
    "history = pathlib.PurePath(data, 'history')\n",
    "interim = pathlib.PurePath(data, 'interim')\n",
    "res = pathlib.PurePath(data, 'results', 'thesis')"
   ]
  },
  {
   "cell_type": "markdown",
   "metadata": {},
   "source": [
    "## Parameters and Datasets"
   ]
  },
  {
   "cell_type": "code",
   "execution_count": 3,
   "metadata": {},
   "outputs": [],
   "source": [
    "test_param_grid ={\n",
    "    1 : {\n",
    "        'K' : [50, 100, 200, 500, 1000],\n",
    "        'epsilon' : 0.01\n",
    "    },\n",
    "    2 : {\n",
    "        'K' : 1000,\n",
    "        'epsilon' : [0.01, 0.05, 0.1, 1.0]\n",
    "    }\n",
    "}\n",
    "\n",
    "model_param_grid = {\n",
    "    'MNIST' : {\n",
    "        'batch_size' : 1000,\n",
    "        'epochs' : 15,\n",
    "        'save_history' : True,\n",
    "        'path' : history\n",
    "    },\n",
    "    'CIFAR10' : {\n",
    "        'batch_size' : 64,\n",
    "        'epochs' : 30,\n",
    "        'save_history' : True,\n",
    "        'path' : history\n",
    "    },\n",
    "    'CIFAR100' : {\n",
    "        'batch_size' : 64,\n",
    "        'epochs' : 30,\n",
    "        'save_history' : True,\n",
    "        'path' : history\n",
    "    }\n",
    "}"
   ]
  },
  {
   "cell_type": "code",
   "execution_count": 4,
   "metadata": {},
   "outputs": [],
   "source": [
    "datasets = {\n",
    "    'MNIST' : {\n",
    "        'data' : dataset_normalize(mnist.load_data()),\n",
    "        'shape' : (28, 28, 1)\n",
    "        },\n",
    "    'CIFAR10' : {\n",
    "        'data' : dataset_normalize(cifar10.load_data()),\n",
    "        'shape' : (32, 32, 3) \n",
    "    },\n",
    "    'CIFAR100' : {\n",
    "        'data' : dataset_normalize(cifar100.load_data()),\n",
    "        'shape' : (32, 32, 3) \n",
    "    }\n",
    "}"
   ]
  },
  {
   "cell_type": "code",
   "execution_count": 5,
   "metadata": {},
   "outputs": [],
   "source": [
    "partition_dir = interim\n",
    "seed = 8008"
   ]
  },
  {
   "cell_type": "markdown",
   "metadata": {},
   "source": [
    "## Strategy 1 (Variable K)"
   ]
  },
  {
   "cell_type": "code",
   "execution_count": 6,
   "metadata": {},
   "outputs": [
    {
     "name": "stdout",
     "output_type": "stream",
     "text": [
      "Running Test 1 on MNIST...\n"
     ]
    },
    {
     "name": "stderr",
     "output_type": "stream",
     "text": [
      "  0%|          | 0/5 [00:00<?, ?it/s]"
     ]
    },
    {
     "name": "stdout",
     "output_type": "stream",
     "text": [
      "Loading Partitions for MNIST dataset with 50 clusters\n",
      "Accuracy on K-Means : 0.6862\n",
      "Accuracy on Gaussian_Neighbourhood : 0.852\n",
      "Accuracy on Epsilon_Neighbourhood : 0.8913\n"
     ]
    },
    {
     "name": "stderr",
     "output_type": "stream",
     "text": [
      "  0%|          | 0/5 [27:57<?, ?it/s]"
     ]
    },
    {
     "name": "stdout",
     "output_type": "stream",
     "text": [
      "Accuracy on Complete_Information : 0.9928\n"
     ]
    },
    {
     "name": "stderr",
     "output_type": "stream",
     "text": [
      "\n"
     ]
    },
    {
     "ename": "ValueError",
     "evalue": "If using all scalar values, you must pass an index",
     "output_type": "error",
     "traceback": [
      "\u001b[1;31m---------------------------------------------------------------------------\u001b[0m",
      "\u001b[1;31mValueError\u001b[0m                                Traceback (most recent call last)",
      "\u001b[1;32md:\\SUMMER 2022\\PROJECT\\PredictionsFromAggregations\\notebooks\\baseline\\testing.ipynb Cell 11'\u001b[0m in \u001b[0;36m<cell line: 1>\u001b[1;34m()\u001b[0m\n\u001b[0;32m     <a href='vscode-notebook-cell:/d%3A/SUMMER%202022/PROJECT/PredictionsFromAggregations/notebooks/baseline/testing.ipynb#ch0000012?line=37'>38</a>\u001b[0m     \u001b[39mfor\u001b[39;00m \u001b[39mset\u001b[39m \u001b[39min\u001b[39;00m sets:\n\u001b[0;32m     <a href='vscode-notebook-cell:/d%3A/SUMMER%202022/PROJECT/PredictionsFromAggregations/notebooks/baseline/testing.ipynb#ch0000012?line=38'>39</a>\u001b[0m         \u001b[39mset\u001b[39m[\u001b[39m'\u001b[39m\u001b[39mK\u001b[39m\u001b[39m'\u001b[39m] \u001b[39m=\u001b[39m k\n\u001b[1;32m---> <a href='vscode-notebook-cell:/d%3A/SUMMER%202022/PROJECT/PredictionsFromAggregations/notebooks/baseline/testing.ipynb#ch0000012?line=39'>40</a>\u001b[0m         intermediate\u001b[39m.\u001b[39mappend(pd\u001b[39m.\u001b[39;49mDataFrame(\u001b[39mset\u001b[39;49m))\n\u001b[0;32m     <a href='vscode-notebook-cell:/d%3A/SUMMER%202022/PROJECT/PredictionsFromAggregations/notebooks/baseline/testing.ipynb#ch0000012?line=40'>41</a>\u001b[0m metrics \u001b[39m=\u001b[39m pd\u001b[39m.\u001b[39mconcat(intermediate, ignore_index\u001b[39m=\u001b[39m\u001b[39mTrue\u001b[39;00m)\n\u001b[0;32m     <a href='vscode-notebook-cell:/d%3A/SUMMER%202022/PROJECT/PredictionsFromAggregations/notebooks/baseline/testing.ipynb#ch0000012?line=41'>42</a>\u001b[0m metrics\u001b[39m.\u001b[39mto_csv(pathlib\u001b[39m.\u001b[39mPurePath(res, \u001b[39m'\u001b[39m\u001b[39mstrategy1_\u001b[39m\u001b[39m{}\u001b[39;00m\u001b[39m.csv\u001b[39m\u001b[39m'\u001b[39m\u001b[39m.\u001b[39mformat(key)))\n",
      "File \u001b[1;32md:\\CONDA\\envs\\tf\\lib\\site-packages\\pandas\\core\\frame.py:636\u001b[0m, in \u001b[0;36mDataFrame.__init__\u001b[1;34m(self, data, index, columns, dtype, copy)\u001b[0m\n\u001b[0;32m    <a href='file:///d%3A/CONDA/envs/tf/lib/site-packages/pandas/core/frame.py?line=629'>630</a>\u001b[0m     mgr \u001b[39m=\u001b[39m \u001b[39mself\u001b[39m\u001b[39m.\u001b[39m_init_mgr(\n\u001b[0;32m    <a href='file:///d%3A/CONDA/envs/tf/lib/site-packages/pandas/core/frame.py?line=630'>631</a>\u001b[0m         data, axes\u001b[39m=\u001b[39m{\u001b[39m\"\u001b[39m\u001b[39mindex\u001b[39m\u001b[39m\"\u001b[39m: index, \u001b[39m\"\u001b[39m\u001b[39mcolumns\u001b[39m\u001b[39m\"\u001b[39m: columns}, dtype\u001b[39m=\u001b[39mdtype, copy\u001b[39m=\u001b[39mcopy\n\u001b[0;32m    <a href='file:///d%3A/CONDA/envs/tf/lib/site-packages/pandas/core/frame.py?line=631'>632</a>\u001b[0m     )\n\u001b[0;32m    <a href='file:///d%3A/CONDA/envs/tf/lib/site-packages/pandas/core/frame.py?line=633'>634</a>\u001b[0m \u001b[39melif\u001b[39;00m \u001b[39misinstance\u001b[39m(data, \u001b[39mdict\u001b[39m):\n\u001b[0;32m    <a href='file:///d%3A/CONDA/envs/tf/lib/site-packages/pandas/core/frame.py?line=634'>635</a>\u001b[0m     \u001b[39m# GH#38939 de facto copy defaults to False only in non-dict cases\u001b[39;00m\n\u001b[1;32m--> <a href='file:///d%3A/CONDA/envs/tf/lib/site-packages/pandas/core/frame.py?line=635'>636</a>\u001b[0m     mgr \u001b[39m=\u001b[39m dict_to_mgr(data, index, columns, dtype\u001b[39m=\u001b[39;49mdtype, copy\u001b[39m=\u001b[39;49mcopy, typ\u001b[39m=\u001b[39;49mmanager)\n\u001b[0;32m    <a href='file:///d%3A/CONDA/envs/tf/lib/site-packages/pandas/core/frame.py?line=636'>637</a>\u001b[0m \u001b[39melif\u001b[39;00m \u001b[39misinstance\u001b[39m(data, ma\u001b[39m.\u001b[39mMaskedArray):\n\u001b[0;32m    <a href='file:///d%3A/CONDA/envs/tf/lib/site-packages/pandas/core/frame.py?line=637'>638</a>\u001b[0m     \u001b[39mimport\u001b[39;00m \u001b[39mnumpy\u001b[39;00m\u001b[39m.\u001b[39;00m\u001b[39mma\u001b[39;00m\u001b[39m.\u001b[39;00m\u001b[39mmrecords\u001b[39;00m \u001b[39mas\u001b[39;00m \u001b[39mmrecords\u001b[39;00m\n",
      "File \u001b[1;32md:\\CONDA\\envs\\tf\\lib\\site-packages\\pandas\\core\\internals\\construction.py:502\u001b[0m, in \u001b[0;36mdict_to_mgr\u001b[1;34m(data, index, columns, dtype, typ, copy)\u001b[0m\n\u001b[0;32m    <a href='file:///d%3A/CONDA/envs/tf/lib/site-packages/pandas/core/internals/construction.py?line=493'>494</a>\u001b[0m     arrays \u001b[39m=\u001b[39m [\n\u001b[0;32m    <a href='file:///d%3A/CONDA/envs/tf/lib/site-packages/pandas/core/internals/construction.py?line=494'>495</a>\u001b[0m         x\n\u001b[0;32m    <a href='file:///d%3A/CONDA/envs/tf/lib/site-packages/pandas/core/internals/construction.py?line=495'>496</a>\u001b[0m         \u001b[39mif\u001b[39;00m \u001b[39mnot\u001b[39;00m \u001b[39mhasattr\u001b[39m(x, \u001b[39m\"\u001b[39m\u001b[39mdtype\u001b[39m\u001b[39m\"\u001b[39m) \u001b[39mor\u001b[39;00m \u001b[39mnot\u001b[39;00m \u001b[39misinstance\u001b[39m(x\u001b[39m.\u001b[39mdtype, ExtensionDtype)\n\u001b[0;32m    <a href='file:///d%3A/CONDA/envs/tf/lib/site-packages/pandas/core/internals/construction.py?line=496'>497</a>\u001b[0m         \u001b[39melse\u001b[39;00m x\u001b[39m.\u001b[39mcopy()\n\u001b[0;32m    <a href='file:///d%3A/CONDA/envs/tf/lib/site-packages/pandas/core/internals/construction.py?line=497'>498</a>\u001b[0m         \u001b[39mfor\u001b[39;00m x \u001b[39min\u001b[39;00m arrays\n\u001b[0;32m    <a href='file:///d%3A/CONDA/envs/tf/lib/site-packages/pandas/core/internals/construction.py?line=498'>499</a>\u001b[0m     ]\n\u001b[0;32m    <a href='file:///d%3A/CONDA/envs/tf/lib/site-packages/pandas/core/internals/construction.py?line=499'>500</a>\u001b[0m     \u001b[39m# TODO: can we get rid of the dt64tz special case above?\u001b[39;00m\n\u001b[1;32m--> <a href='file:///d%3A/CONDA/envs/tf/lib/site-packages/pandas/core/internals/construction.py?line=501'>502</a>\u001b[0m \u001b[39mreturn\u001b[39;00m arrays_to_mgr(arrays, columns, index, dtype\u001b[39m=\u001b[39;49mdtype, typ\u001b[39m=\u001b[39;49mtyp, consolidate\u001b[39m=\u001b[39;49mcopy)\n",
      "File \u001b[1;32md:\\CONDA\\envs\\tf\\lib\\site-packages\\pandas\\core\\internals\\construction.py:120\u001b[0m, in \u001b[0;36marrays_to_mgr\u001b[1;34m(arrays, columns, index, dtype, verify_integrity, typ, consolidate)\u001b[0m\n\u001b[0;32m    <a href='file:///d%3A/CONDA/envs/tf/lib/site-packages/pandas/core/internals/construction.py?line=116'>117</a>\u001b[0m \u001b[39mif\u001b[39;00m verify_integrity:\n\u001b[0;32m    <a href='file:///d%3A/CONDA/envs/tf/lib/site-packages/pandas/core/internals/construction.py?line=117'>118</a>\u001b[0m     \u001b[39m# figure out the index, if necessary\u001b[39;00m\n\u001b[0;32m    <a href='file:///d%3A/CONDA/envs/tf/lib/site-packages/pandas/core/internals/construction.py?line=118'>119</a>\u001b[0m     \u001b[39mif\u001b[39;00m index \u001b[39mis\u001b[39;00m \u001b[39mNone\u001b[39;00m:\n\u001b[1;32m--> <a href='file:///d%3A/CONDA/envs/tf/lib/site-packages/pandas/core/internals/construction.py?line=119'>120</a>\u001b[0m         index \u001b[39m=\u001b[39m _extract_index(arrays)\n\u001b[0;32m    <a href='file:///d%3A/CONDA/envs/tf/lib/site-packages/pandas/core/internals/construction.py?line=120'>121</a>\u001b[0m     \u001b[39melse\u001b[39;00m:\n\u001b[0;32m    <a href='file:///d%3A/CONDA/envs/tf/lib/site-packages/pandas/core/internals/construction.py?line=121'>122</a>\u001b[0m         index \u001b[39m=\u001b[39m ensure_index(index)\n",
      "File \u001b[1;32md:\\CONDA\\envs\\tf\\lib\\site-packages\\pandas\\core\\internals\\construction.py:664\u001b[0m, in \u001b[0;36m_extract_index\u001b[1;34m(data)\u001b[0m\n\u001b[0;32m    <a href='file:///d%3A/CONDA/envs/tf/lib/site-packages/pandas/core/internals/construction.py?line=660'>661</a>\u001b[0m         \u001b[39mraise\u001b[39;00m \u001b[39mValueError\u001b[39;00m(\u001b[39m\"\u001b[39m\u001b[39mPer-column arrays must each be 1-dimensional\u001b[39m\u001b[39m\"\u001b[39m)\n\u001b[0;32m    <a href='file:///d%3A/CONDA/envs/tf/lib/site-packages/pandas/core/internals/construction.py?line=662'>663</a>\u001b[0m \u001b[39mif\u001b[39;00m \u001b[39mnot\u001b[39;00m indexes \u001b[39mand\u001b[39;00m \u001b[39mnot\u001b[39;00m raw_lengths:\n\u001b[1;32m--> <a href='file:///d%3A/CONDA/envs/tf/lib/site-packages/pandas/core/internals/construction.py?line=663'>664</a>\u001b[0m     \u001b[39mraise\u001b[39;00m \u001b[39mValueError\u001b[39;00m(\u001b[39m\"\u001b[39m\u001b[39mIf using all scalar values, you must pass an index\u001b[39m\u001b[39m\"\u001b[39m)\n\u001b[0;32m    <a href='file:///d%3A/CONDA/envs/tf/lib/site-packages/pandas/core/internals/construction.py?line=665'>666</a>\u001b[0m \u001b[39melif\u001b[39;00m have_series:\n\u001b[0;32m    <a href='file:///d%3A/CONDA/envs/tf/lib/site-packages/pandas/core/internals/construction.py?line=666'>667</a>\u001b[0m     index \u001b[39m=\u001b[39m union_indexes(indexes)\n",
      "\u001b[1;31mValueError\u001b[0m: If using all scalar values, you must pass an index"
     ]
    }
   ],
   "source": [
    "for key, v in datasets.items():\n",
    "    \n",
    "    intermediate = []\n",
    "\n",
    "    x_train = v['data']['x_train']\n",
    "    x_test = v['data']['x_test']\n",
    "    y_train = v['data']['y_train']\n",
    "    y_test = v['data']['y_test']\n",
    "\n",
    "    print(\"Running Test 1 on {}...\".format(key))\n",
    "\n",
    "    for k in tqdm(test_param_grid[1]['K']):\n",
    "        dir = pathlib.PurePath(partition_dir, key + str(k) + '_partitions.tsv')\n",
    "        if Path(dir.as_posix()).exists():\n",
    "            print(\"Loading Partitions for {} dataset with {} clusters\".format(key, k))\n",
    "            with open(dir) as f:\n",
    "                lines = f.readlines()\n",
    "            lines = [line.rstrip() for line in lines]\n",
    "            x = []\n",
    "            y = []\n",
    "            for line in lines:\n",
    "                tokens = line.split()\n",
    "                x_vec = np.zeros(len(tokens)-1)\n",
    "                for i in range(len(tokens)-1):\n",
    "                    x_vec[i] = float(tokens[i])\n",
    "\n",
    "                x.append(x_vec)\n",
    "                y.append(int(tokens[-1]))\n",
    "        else:\n",
    "            print(\"Generating Partitions for {} dataset with {} clusters\".format(key, k))\n",
    "            x_vecs = flatten(x_train)\n",
    "            x, y = partition(x_vecs, k, SEED=seed, write_path=pathlib.PurePath(interim, key + str(k) + '_partitions.tsv'))\n",
    "\n",
    "        kmeans = runKmeans(k,  (x_train, x_test), (y_train, y_test), v['shape'], key, model_param_grid[key])\n",
    "        results = runTest(k, test_param_grid[1]['epsilon'], (x_train, x_test), (y_train, y_test), (x, y), v['shape'], model_param_grid[key], key, (True, True, True))\n",
    "        \n",
    "        sets = [kmeans, results['gaussian'], results['epsilon'], results['complete']]\n",
    "        for set in sets:\n",
    "            set['K'] = k\n",
    "            intermediate.append(set)\n",
    "    metrics = pd.DataFrame(intermediate)\n",
    "    metrics.to_csv(pathlib.PurePath(res, 'strategy1_{}.csv'.format(key)))\n",
    "    print(\"Test 1 Completed Successfully for {}\".format(key))"
   ]
  },
  {
   "cell_type": "markdown",
   "metadata": {},
   "source": [
    "## Strategy 2 (Variable $\\epsilon$)"
   ]
  },
  {
   "cell_type": "code",
   "execution_count": null,
   "metadata": {},
   "outputs": [],
   "source": [
    "for key, v in datasets.items():\n",
    "\n",
    "    intermediate = []\n",
    "\n",
    "    x_train = v['data']['x_train']\n",
    "    x_test = v['data']['x_test']\n",
    "    y_train = v['data']['y_train']\n",
    "    y_test = v['data']['y_test']\n",
    "\n",
    "    k = test_param_grid[2]['K']\n",
    "    dir = pathlib.PurePath(partition_dir, key + str(k) + '_partitions.tsv')\n",
    "    \n",
    "    if Path(dir.as_posix()).exists():\n",
    "        print(\"Loading Partitions for {} dataset with {} clusters\".format(key, k))\n",
    "        with open(dir) as f:\n",
    "            lines = f.readlines()\n",
    "        lines = [line.rstrip() for line in lines]\n",
    "        x = []\n",
    "        y = []\n",
    "        for line in lines:\n",
    "            tokens = line.split()\n",
    "            x_vec = np.zeros(len(tokens)-1)\n",
    "            for i in range(len(tokens)-1):\n",
    "                x_vec[i] = float(tokens[i])\n",
    "\n",
    "            x.append(x_vec)\n",
    "            y.append(int(tokens[-1]))\n",
    "    else: \n",
    "        print(\"Generating Partitions for {} dataset with {} clusters\".format(key, k))\n",
    "        x_vecs = flatten(x_train)\n",
    "        x, y = partition(x_vecs, k, SEED=seed, write_path=pathlib.PurePath(interim, key + str(k) + '_partitions.tsv'))\n",
    "\n",
    "    print(\"Running Test 2 on {}...\".format(key))\n",
    "\n",
    "    for e in tqdm(test_param_grid[2]['epsilon']): \n",
    "        results = runTest(test_param_grid[2]['K'], e, (x_train, x_test), (y_train, y_test), (x, y), v['shape'], model_param_grid[key], key, (False, True, False))\n",
    "        results = results['epsilon']\n",
    "        results['dataset'] = key\n",
    "        results['Epsilon'] = e\n",
    "\n",
    "        intermediate.append(results)\n",
    "    \n",
    "    metrics = pd.DataFrame(intermediate)\n",
    "    metrics.to_csv(pathlib.PurePath(res, 'strategy2_{}.csv'.format(key)))\n",
    "    print(\"Test 2 Completed Successfully for {}\".format(key))"
   ]
  }
 ],
 "metadata": {
  "interpreter": {
   "hash": "c4e57a4fbbe7b238f2d8f4c3c5c55f142d3bab0a64ef0692cc7fcf686c333830"
  },
  "kernelspec": {
   "display_name": "Python 3.9.12 ('tf')",
   "language": "python",
   "name": "python3"
  },
  "language_info": {
   "codemirror_mode": {
    "name": "ipython",
    "version": 3
   },
   "file_extension": ".py",
   "mimetype": "text/x-python",
   "name": "python",
   "nbconvert_exporter": "python",
   "pygments_lexer": "ipython3",
   "version": "3.9.12"
  },
  "orig_nbformat": 4
 },
 "nbformat": 4,
 "nbformat_minor": 2
}
