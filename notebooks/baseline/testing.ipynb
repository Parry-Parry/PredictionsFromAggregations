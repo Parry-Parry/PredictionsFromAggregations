{
 "cells": [
  {
   "cell_type": "markdown",
   "metadata": {},
   "source": [
    "# Verification of Thesis Results"
   ]
  },
  {
   "cell_type": "markdown",
   "metadata": {},
   "source": [
    "## Imports "
   ]
  },
  {
   "cell_type": "code",
   "execution_count": 15,
   "metadata": {},
   "outputs": [],
   "source": [
    "import sys\n",
    "import os\n",
    "import pathlib\n",
    "from pathlib import Path\n",
    "\n",
    "import pandas as pd\n",
    "import numpy as np\n",
    "from tqdm import tqdm\n",
    "\n",
    "from src.models.baseline.kmeans import runKmeans\n",
    "from tensorflow.keras.datasets import cifar100, cifar10, mnist\n",
    "\n",
    "from src.models.baseline.helper import *"
   ]
  },
  {
   "cell_type": "markdown",
   "metadata": {},
   "source": [
    "## Required Paths"
   ]
  },
  {
   "cell_type": "code",
   "execution_count": 16,
   "metadata": {},
   "outputs": [],
   "source": [
    "cwd = Path(os.getcwd())\n",
    "root = cwd.parent.parent\n",
    "data = pathlib.PurePath(root, 'data')\n",
    "history = pathlib.PurePath(data, 'history')\n",
    "interim = pathlib.PurePath(data, 'interim')\n",
    "res = pathlib.PurePath(data, 'results', 'thesis')"
   ]
  },
  {
   "cell_type": "markdown",
   "metadata": {},
   "source": [
    "## Parameters and Datasets"
   ]
  },
  {
   "cell_type": "code",
   "execution_count": 17,
   "metadata": {},
   "outputs": [],
   "source": [
    "\n",
    "test_param_grid ={\n",
    "    1 : {\n",
    "        'K' : [50, 100, 200, 500, 1000],\n",
    "        'epsilon' : 0.01\n",
    "    },\n",
    "    2 : {\n",
    "        'K' : 1000,\n",
    "        'epsilon' : [0.01, 0.05, 0.1, 1.0]\n",
    "    }\n",
    "}\n",
    "\"\"\"\n",
    "test_param_grid ={\n",
    "    1 : {\n",
    "        'K' : [1000],\n",
    "        'epsilon' : 0.01\n",
    "    },\n",
    "    2 : {\n",
    "        'K' : 1000,\n",
    "        'epsilon' : [0.01, 0.05, 0.1, 1.0]\n",
    "    }\n",
    "}\n",
    "\"\"\"\n",
    "model_param_grid = {\n",
    "    'MNIST' : {\n",
    "        'batch_size' : 1000,\n",
    "        'epochs' : 15,\n",
    "        'save_history' : True,\n",
    "        'path' : history\n",
    "    },\n",
    "    'CIFAR10' : {\n",
    "        'batch_size' : 64,\n",
    "        'epochs' : 30,\n",
    "        'save_history' : True,\n",
    "        'path' : history\n",
    "    },\n",
    "    'CIFAR100' : {\n",
    "        'batch_size' : 64,\n",
    "        'epochs' : 30,\n",
    "        'save_history' : True,\n",
    "        'path' : history\n",
    "    }\n",
    "}"
   ]
  },
  {
   "cell_type": "code",
   "execution_count": 18,
   "metadata": {},
   "outputs": [],
   "source": [
    "datasets = {\n",
    "    'MNIST' : {\n",
    "        'data' : dataset_normalize(mnist.load_data()),\n",
    "        'shape' : (28, 28, 1)\n",
    "        },\n",
    "    'CIFAR10' : {\n",
    "       'data' : dataset_normalize(cifar10.load_data()),\n",
    "       'shape' : (32, 32, 3) \n",
    "    },\n",
    "    'CIFAR100' : {\n",
    "        'data' : dataset_normalize(cifar100.load_data()),\n",
    "       'shape' : (32, 32, 3) \n",
    "    }\n",
    "}"
   ]
  },
  {
   "cell_type": "code",
   "execution_count": 19,
   "metadata": {},
   "outputs": [],
   "source": [
    "datasets =  {\n",
    "    'CIFAR100' : {\n",
    "        'data' : dataset_normalize(cifar100.load_data()),\n",
    "       'shape' : (32, 32, 3) \n",
    "    }\n",
    "}"
   ]
  },
  {
   "cell_type": "code",
   "execution_count": 20,
   "metadata": {},
   "outputs": [],
   "source": [
    "partition_dir = interim\n",
    "seed = 8008"
   ]
  },
  {
   "cell_type": "markdown",
   "metadata": {},
   "source": [
    "## Strategy 1 (Variable K)"
   ]
  },
  {
   "cell_type": "code",
   "execution_count": 21,
   "metadata": {},
   "outputs": [
    {
     "name": "stdout",
     "output_type": "stream",
     "text": [
      "Running Test 1 on CIFAR100...\n"
     ]
    },
    {
     "name": "stderr",
     "output_type": "stream",
     "text": [
      "  0%|          | 0/1 [00:00<?, ?it/s]"
     ]
    },
    {
     "name": "stdout",
     "output_type": "stream",
     "text": [
      "Loading Partitions for CIFAR100 dataset with 1000 clusters\n",
      "Accuracy on K-Means : 0.1158\n"
     ]
    },
    {
     "name": "stderr",
     "output_type": "stream",
     "text": [
      "  0%|          | 0/1 [11:32<?, ?it/s]\n"
     ]
    },
    {
     "ename": "KeyboardInterrupt",
     "evalue": "",
     "output_type": "error",
     "traceback": [
      "\u001b[1;31m---------------------------------------------------------------------------\u001b[0m",
      "\u001b[1;31mKeyboardInterrupt\u001b[0m                         Traceback (most recent call last)",
      "\u001b[1;32md:\\SUMMER 2022\\PROJECT\\PredictionsFromAggregations\\notebooks\\baseline\\testing.ipynb Cell 12'\u001b[0m in \u001b[0;36m<module>\u001b[1;34m\u001b[0m\n\u001b[0;32m     <a href='vscode-notebook-cell:/d%3A/SUMMER%202022/PROJECT/PredictionsFromAggregations/notebooks/baseline/testing.ipynb#ch0000010?line=31'>32</a>\u001b[0m     x, y \u001b[39m=\u001b[39m partition(x_vecs, k, SEED\u001b[39m=\u001b[39mseed, write_path\u001b[39m=\u001b[39mpathlib\u001b[39m.\u001b[39mPurePath(interim, key \u001b[39m+\u001b[39m \u001b[39mstr\u001b[39m(k) \u001b[39m+\u001b[39m \u001b[39m'\u001b[39m\u001b[39m_partitions.tsv\u001b[39m\u001b[39m'\u001b[39m))\n\u001b[0;32m     <a href='vscode-notebook-cell:/d%3A/SUMMER%202022/PROJECT/PredictionsFromAggregations/notebooks/baseline/testing.ipynb#ch0000010?line=33'>34</a>\u001b[0m kmeans \u001b[39m=\u001b[39m runKmeans(k, (x_train, x_test), (y_train, y_test), v[\u001b[39m'\u001b[39m\u001b[39mshape\u001b[39m\u001b[39m'\u001b[39m], key, model_param_grid[key])\n\u001b[1;32m---> <a href='vscode-notebook-cell:/d%3A/SUMMER%202022/PROJECT/PredictionsFromAggregations/notebooks/baseline/testing.ipynb#ch0000010?line=34'>35</a>\u001b[0m results \u001b[39m=\u001b[39m runTest(k, test_param_grid[\u001b[39m1\u001b[39;49m][\u001b[39m'\u001b[39;49m\u001b[39mepsilon\u001b[39;49m\u001b[39m'\u001b[39;49m], (x_train, x_test), (y_train, y_test), (x, y), v[\u001b[39m'\u001b[39;49m\u001b[39mshape\u001b[39;49m\u001b[39m'\u001b[39;49m], model_param_grid[key], key, (\u001b[39mFalse\u001b[39;49;00m, \u001b[39mTrue\u001b[39;49;00m, \u001b[39mTrue\u001b[39;49;00m))\n\u001b[0;32m     <a href='vscode-notebook-cell:/d%3A/SUMMER%202022/PROJECT/PredictionsFromAggregations/notebooks/baseline/testing.ipynb#ch0000010?line=36'>37</a>\u001b[0m sets \u001b[39m=\u001b[39m [kmeans, results[\u001b[39m'\u001b[39m\u001b[39mepsilon\u001b[39m\u001b[39m'\u001b[39m], results[\u001b[39m'\u001b[39m\u001b[39mcomplete\u001b[39m\u001b[39m'\u001b[39m]]\n\u001b[0;32m     <a href='vscode-notebook-cell:/d%3A/SUMMER%202022/PROJECT/PredictionsFromAggregations/notebooks/baseline/testing.ipynb#ch0000010?line=37'>38</a>\u001b[0m \u001b[39mfor\u001b[39;00m \u001b[39mset\u001b[39m \u001b[39min\u001b[39;00m sets:\n",
      "File \u001b[1;32md:\\CONDA\\envs\\tfgpu\\lib\\site-packages\\src-0.1.0-py3.9.egg\\src\\models\\baseline\\helper.py:191\u001b[0m, in \u001b[0;36mrunTest\u001b[1;34m(K, epsilon, X, Y, partitions, shape, params, dataset_name, experiment)\u001b[0m\n\u001b[0;32m    <a href='file:///d%3A/CONDA/envs/tfgpu/lib/site-packages/src-0.1.0-py3.9.egg/src/models/baseline/helper.py?line=186'>187</a>\u001b[0m \u001b[39m### EPSILON NEIGHBOURHOOD CALCULATIONS ###\u001b[39;00m\n\u001b[0;32m    <a href='file:///d%3A/CONDA/envs/tfgpu/lib/site-packages/src-0.1.0-py3.9.egg/src/models/baseline/helper.py?line=188'>189</a>\u001b[0m \u001b[39mif\u001b[39;00m eps:\n\u001b[1;32m--> <a href='file:///d%3A/CONDA/envs/tfgpu/lib/site-packages/src-0.1.0-py3.9.egg/src/models/baseline/helper.py?line=190'>191</a>\u001b[0m     x_eps, y_eps \u001b[39m=\u001b[39m reconstructWithEpsilonNeighborhood(mu, members, prob_cluster_labels, n_classes, epsilon)\n\u001b[0;32m    <a href='file:///d%3A/CONDA/envs/tfgpu/lib/site-packages/src-0.1.0-py3.9.egg/src/models/baseline/helper.py?line=192'>193</a>\u001b[0m     x_eps \u001b[39m=\u001b[39m np\u001b[39m.\u001b[39marray(x_eps)\n\u001b[0;32m    <a href='file:///d%3A/CONDA/envs/tfgpu/lib/site-packages/src-0.1.0-py3.9.egg/src/models/baseline/helper.py?line=193'>194</a>\u001b[0m     y_eps \u001b[39m=\u001b[39m np\u001b[39m.\u001b[39marray([point[\u001b[39m0\u001b[39m] \u001b[39mfor\u001b[39;00m point \u001b[39min\u001b[39;00m y_eps])\n",
      "File \u001b[1;32md:\\CONDA\\envs\\tfgpu\\lib\\site-packages\\src-0.1.0-py3.9.egg\\src\\models\\baseline\\epsilon_neighbours.py:26\u001b[0m, in \u001b[0;36mreconstructWithEpsilonNeighborhood\u001b[1;34m(mu, cluster_info, label_info, num_labels, epsilon)\u001b[0m\n\u001b[0;32m     <a href='file:///d%3A/CONDA/envs/tfgpu/lib/site-packages/src-0.1.0-py3.9.egg/src/models/baseline/epsilon_neighbours.py?line=23'>24</a>\u001b[0m p_label_dist \u001b[39m=\u001b[39m label_info[i]\n\u001b[0;32m     <a href='file:///d%3A/CONDA/envs/tfgpu/lib/site-packages/src-0.1.0-py3.9.egg/src/models/baseline/epsilon_neighbours.py?line=24'>25</a>\u001b[0m nmembers \u001b[39m=\u001b[39m \u001b[39mlen\u001b[39m(cluster_info[i]) \n\u001b[1;32m---> <a href='file:///d%3A/CONDA/envs/tfgpu/lib/site-packages/src-0.1.0-py3.9.egg/src/models/baseline/epsilon_neighbours.py?line=25'>26</a>\u001b[0m sampled_vecs \u001b[39m=\u001b[39m sampleFromNeighborhood(mu_i, nmembers, epsilon)\n\u001b[0;32m     <a href='file:///d%3A/CONDA/envs/tfgpu/lib/site-packages/src-0.1.0-py3.9.egg/src/models/baseline/epsilon_neighbours.py?line=27'>28</a>\u001b[0m \u001b[39mfor\u001b[39;00m s \u001b[39min\u001b[39;00m sampled_vecs:\n\u001b[0;32m     <a href='file:///d%3A/CONDA/envs/tfgpu/lib/site-packages/src-0.1.0-py3.9.egg/src/models/baseline/epsilon_neighbours.py?line=28'>29</a>\u001b[0m     x_vecs\u001b[39m.\u001b[39mappend(s) \u001b[39m# random point\u001b[39;00m\n",
      "File \u001b[1;32md:\\CONDA\\envs\\tfgpu\\lib\\site-packages\\src-0.1.0-py3.9.egg\\src\\models\\baseline\\epsilon_neighbours.py:10\u001b[0m, in \u001b[0;36msampleFromNeighborhood\u001b[1;34m(x, num_samples, epsilon)\u001b[0m\n\u001b[0;32m      <a href='file:///d%3A/CONDA/envs/tfgpu/lib/site-packages/src-0.1.0-py3.9.egg/src/models/baseline/epsilon_neighbours.py?line=6'>7</a>\u001b[0m limit \u001b[39m=\u001b[39m epsilon\u001b[39m/\u001b[39m\u001b[39mfloat\u001b[39m(d)\n\u001b[0;32m      <a href='file:///d%3A/CONDA/envs/tfgpu/lib/site-packages/src-0.1.0-py3.9.egg/src/models/baseline/epsilon_neighbours.py?line=8'>9</a>\u001b[0m \u001b[39mfor\u001b[39;00m k \u001b[39min\u001b[39;00m \u001b[39mrange\u001b[39m(num_samples):\n\u001b[1;32m---> <a href='file:///d%3A/CONDA/envs/tfgpu/lib/site-packages/src-0.1.0-py3.9.egg/src/models/baseline/epsilon_neighbours.py?line=9'>10</a>\u001b[0m     vec \u001b[39m=\u001b[39m np\u001b[39m.\u001b[39;49mzeros(d)\n\u001b[0;32m     <a href='file:///d%3A/CONDA/envs/tfgpu/lib/site-packages/src-0.1.0-py3.9.egg/src/models/baseline/epsilon_neighbours.py?line=10'>11</a>\u001b[0m     \u001b[39mfor\u001b[39;00m i \u001b[39min\u001b[39;00m \u001b[39mrange\u001b[39m(d):\n\u001b[0;32m     <a href='file:///d%3A/CONDA/envs/tfgpu/lib/site-packages/src-0.1.0-py3.9.egg/src/models/baseline/epsilon_neighbours.py?line=11'>12</a>\u001b[0m         x_i \u001b[39m=\u001b[39m x[i]\n",
      "\u001b[1;31mKeyboardInterrupt\u001b[0m: "
     ]
    }
   ],
   "source": [
    "for key, v in datasets.items():\n",
    "    \n",
    "    intermediate = []\n",
    "\n",
    "    x_train = v['data']['x_train']\n",
    "    x_test = v['data']['x_test']\n",
    "    y_train = v['data']['y_train']\n",
    "    y_test = v['data']['y_test']\n",
    "\n",
    "    print(\"Running Test 1 on {}...\".format(key))\n",
    "\n",
    "    for k in tqdm(test_param_grid[1]['K']):\n",
    "        dir = pathlib.PurePath(partition_dir, key + str(k) + '_partitions.tsv')\n",
    "        if Path(dir.as_posix()).exists():\n",
    "            print(\"Loading Partitions for {} dataset with {} clusters\".format(key, k))\n",
    "            with open(dir) as f:\n",
    "                lines = f.readlines()\n",
    "            lines = [line.rstrip() for line in lines]\n",
    "            x = []\n",
    "            y = []\n",
    "            for line in lines:\n",
    "                tokens = line.split()\n",
    "                x_vec = np.zeros(len(tokens)-1)\n",
    "                for i in range(len(tokens)-1):\n",
    "                    x_vec[i] = float(tokens[i])\n",
    "\n",
    "                x.append(x_vec)\n",
    "                y.append(int(tokens[-1]))\n",
    "        else:\n",
    "            print(\"Generating Partitions for {} dataset with {} clusters\".format(key, k))\n",
    "            x_vecs = flatten(x_train)\n",
    "            x, y = partition(x_vecs, k, SEED=seed, write_path=pathlib.PurePath(interim, key + str(k) + '_partitions.tsv'))\n",
    "\n",
    "        kmeans = runKmeans(k, (x_train, x_test), (y_train, y_test), v['shape'], key, model_param_grid[key])\n",
    "        results = runTest(k, test_param_grid[1]['epsilon'], (x_train, x_test), (y_train, y_test), (x, y), v['shape'], model_param_grid[key], key, (False, True, True))\n",
    "        \n",
    "        sets = [kmeans, results['epsilon'], results['complete']]\n",
    "        for set in sets:\n",
    "            set['K'] = k\n",
    "            intermediate.append(set)\n",
    "\n",
    "    metrics = pd.DataFrame(intermediate)\n",
    "    metrics.to_csv(pathlib.PurePath(res, 'strategy1_{}.csv'.format(key)))\n",
    "    print(\"Test 1 Completed Successfully for {}\".format(key))"
   ]
  },
  {
   "cell_type": "markdown",
   "metadata": {},
   "source": [
    "## Strategy 2 (Variable $\\epsilon$)"
   ]
  },
  {
   "cell_type": "code",
   "execution_count": null,
   "metadata": {},
   "outputs": [
    {
     "name": "stdout",
     "output_type": "stream",
     "text": [
      "Loading Partitions for MNIST dataset with 1000 clusters\n",
      "Running Test 2 on MNIST...\n"
     ]
    },
    {
     "name": "stderr",
     "output_type": "stream",
     "text": [
      " 25%|██▌       | 1/4 [03:57<11:51, 237.02s/it]"
     ]
    },
    {
     "name": "stdout",
     "output_type": "stream",
     "text": [
      "Accuracy on Epsilon_Neighbourhood : 0.9673\n"
     ]
    },
    {
     "name": "stderr",
     "output_type": "stream",
     "text": [
      " 50%|█████     | 2/4 [07:57<07:57, 238.79s/it]"
     ]
    },
    {
     "name": "stdout",
     "output_type": "stream",
     "text": [
      "Accuracy on Epsilon_Neighbourhood : 0.9671\n"
     ]
    },
    {
     "name": "stderr",
     "output_type": "stream",
     "text": [
      " 75%|███████▌  | 3/4 [11:53<03:57, 237.88s/it]"
     ]
    },
    {
     "name": "stdout",
     "output_type": "stream",
     "text": [
      "Accuracy on Epsilon_Neighbourhood : 0.9631\n"
     ]
    },
    {
     "name": "stderr",
     "output_type": "stream",
     "text": [
      "100%|██████████| 4/4 [15:50<00:00, 237.69s/it]"
     ]
    },
    {
     "name": "stdout",
     "output_type": "stream",
     "text": [
      "Accuracy on Epsilon_Neighbourhood : 0.9569\n",
      "Test 2 Completed Successfully for MNIST\n"
     ]
    },
    {
     "name": "stderr",
     "output_type": "stream",
     "text": [
      "\n"
     ]
    }
   ],
   "source": [
    "for key, v in datasets.items():\n",
    "\n",
    "    intermediate = []\n",
    "\n",
    "    x_train = v['data']['x_train']\n",
    "    x_test = v['data']['x_test']\n",
    "    y_train = v['data']['y_train']\n",
    "    y_test = v['data']['y_test']\n",
    "\n",
    "    k = test_param_grid[2]['K']\n",
    "    dir = pathlib.PurePath(partition_dir, key + str(k) + '_partitions.tsv')\n",
    "    \n",
    "    if Path(dir.as_posix()).exists():\n",
    "        print(\"Loading Partitions for {} dataset with {} clusters\".format(key, k))\n",
    "        with open(dir) as f:\n",
    "            lines = f.readlines()\n",
    "        lines = [line.rstrip() for line in lines]\n",
    "        x = []\n",
    "        y = []\n",
    "        for line in lines:\n",
    "            tokens = line.split()\n",
    "            x_vec = np.zeros(len(tokens)-1)\n",
    "            for i in range(len(tokens)-1):\n",
    "                x_vec[i] = float(tokens[i])\n",
    "\n",
    "            x.append(x_vec)\n",
    "            y.append(int(tokens[-1]))\n",
    "    else: \n",
    "        print(\"Generating Partitions for {} dataset with {} clusters\".format(key, k))\n",
    "        x_vecs = flatten(x_train)\n",
    "        x, y = partition(x_vecs, k, SEED=seed, write_path=pathlib.PurePath(interim, key + str(k) + '_partitions.tsv'))\n",
    "\n",
    "    print(\"Running Test 2 on {}...\".format(key))\n",
    "\n",
    "    for e in tqdm(test_param_grid[2]['epsilon']): \n",
    "        results = runTest(test_param_grid[2]['K'], e, (x_train, x_test), (y_train, y_test), (x, y), v['shape'], model_param_grid[key], key, (False, True, False))\n",
    "        results = results['epsilon']\n",
    "        results['dataset'] = key\n",
    "        results['Epsilon'] = e\n",
    "\n",
    "        intermediate.append(results)\n",
    "    \n",
    "    metrics = pd.DataFrame(intermediate)\n",
    "    metrics.to_csv(pathlib.PurePath(res, 'strategy2_{}.csv'.format(key)))\n",
    "    print(\"Test 2 Completed Successfully for {}\".format(key))"
   ]
  }
 ],
 "metadata": {
  "interpreter": {
   "hash": "81fa8eaa475578715194bba22f072033b1fc3ca7ac2ce2b8cbb68c8b416ded27"
  },
  "kernelspec": {
   "display_name": "Python 3.9.7 ('tfgpu')",
   "language": "python",
   "name": "python3"
  },
  "language_info": {
   "codemirror_mode": {
    "name": "ipython",
    "version": 3
   },
   "file_extension": ".py",
   "mimetype": "text/x-python",
   "name": "python",
   "nbconvert_exporter": "python",
   "pygments_lexer": "ipython3",
   "version": "3.9.7"
  },
  "orig_nbformat": 4
 },
 "nbformat": 4,
 "nbformat_minor": 2
}
