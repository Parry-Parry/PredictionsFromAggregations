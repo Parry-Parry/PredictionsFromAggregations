{
 "cells": [
  {
   "cell_type": "markdown",
   "metadata": {},
   "source": [
    "# Verification of Thesis Results"
   ]
  },
  {
   "cell_type": "markdown",
   "metadata": {},
   "source": [
    "## Imports "
   ]
  },
  {
   "cell_type": "code",
   "execution_count": 1,
   "metadata": {},
   "outputs": [],
   "source": [
    "import sys\n",
    "import os\n",
    "import pathlib\n",
    "from pathlib import Path\n",
    "\n",
    "import pandas as pd\n",
    "import numpy as np\n",
    "from tqdm import tqdm\n",
    "\n",
    "from src.models.baseline.kmeans import runKmeans\n",
    "from tensorflow.keras.datasets import cifar100, cifar10, mnist\n",
    "\n",
    "from src.models.baseline.helper import *"
   ]
  },
  {
   "cell_type": "markdown",
   "metadata": {},
   "source": [
    "## Required Paths"
   ]
  },
  {
   "cell_type": "code",
   "execution_count": 2,
   "metadata": {},
   "outputs": [],
   "source": [
    "cwd = Path(os.getcwd())\n",
    "root = cwd.parent.parent\n",
    "data = pathlib.PurePath(root, 'data')\n",
    "history = pathlib.PurePath(data, 'history')\n",
    "interim = pathlib.PurePath(data, 'interim')\n",
    "res = pathlib.PurePath(data, 'results', 'thesis')"
   ]
  },
  {
   "cell_type": "markdown",
   "metadata": {},
   "source": [
    "## Parameters and Datasets"
   ]
  },
  {
   "cell_type": "code",
   "execution_count": 10,
   "metadata": {},
   "outputs": [],
   "source": [
    "\"\"\"\n",
    "test_param_grid ={\n",
    "    1 : {\n",
    "        'K' : [50, 100, 200, 500, 1000],\n",
    "        'epsilon' : 0.01\n",
    "    },\n",
    "    2 : {\n",
    "        'K' : 1000,\n",
    "        'epsilon' : [0.01, 0.05, 0.1, 1.0]\n",
    "    }\n",
    "}\n",
    "\"\"\"\n",
    "test_param_grid ={\n",
    "    1 : {\n",
    "        'K' : [500],\n",
    "        'epsilon' : 0.01\n",
    "    },\n",
    "    2 : {\n",
    "        'K' : 1000,\n",
    "        'epsilon' : [0.01, 0.05, 0.1, 1.0]\n",
    "    }\n",
    "}\n",
    "model_param_grid = {\n",
    "    'MNIST' : {\n",
    "        'batch_size' : 1000,\n",
    "        'epochs' : 15,\n",
    "        'save_history' : True,\n",
    "        'path' : history\n",
    "    },\n",
    "    'CIFAR10' : {\n",
    "        'batch_size' : 64,\n",
    "        'epochs' : 30,\n",
    "        'save_history' : True,\n",
    "        'path' : history\n",
    "    },\n",
    "    'CIFAR100' : {\n",
    "        'batch_size' : 64,\n",
    "        'epochs' : 30,\n",
    "        'save_history' : True,\n",
    "        'path' : history\n",
    "    }\n",
    "}"
   ]
  },
  {
   "cell_type": "code",
   "execution_count": 11,
   "metadata": {},
   "outputs": [],
   "source": [
    "datasets = {\n",
    "    'MNIST' : {\n",
    "        'data' : dataset_normalize(mnist.load_data()),\n",
    "        'shape' : (28, 28, 1)\n",
    "        },\n",
    "    'CIFAR10' : {\n",
    "       'data' : dataset_normalize(cifar10.load_data()),\n",
    "       'shape' : (32, 32, 3) \n",
    "    },\n",
    "    'CIFAR100' : {\n",
    "        'data' : dataset_normalize(cifar100.load_data()),\n",
    "       'shape' : (32, 32, 3) \n",
    "    }\n",
    "}"
   ]
  },
  {
   "cell_type": "code",
   "execution_count": 12,
   "metadata": {},
   "outputs": [],
   "source": [
    "datasets =  {\n",
    "    'CIFAR100' : {\n",
    "        'data' : dataset_normalize(cifar100.load_data()),\n",
    "       'shape' : (32, 32, 3) \n",
    "    }\n",
    "}"
   ]
  },
  {
   "cell_type": "code",
   "execution_count": 13,
   "metadata": {},
   "outputs": [],
   "source": [
    "partition_dir = interim\n",
    "seed = 8008"
   ]
  },
  {
   "cell_type": "markdown",
   "metadata": {},
   "source": [
    "## Strategy 1 (Variable K)"
   ]
  },
  {
   "cell_type": "code",
   "execution_count": 14,
   "metadata": {},
   "outputs": [
    {
     "name": "stdout",
     "output_type": "stream",
     "text": [
      "Running Test 1 on CIFAR100...\n"
     ]
    },
    {
     "name": "stderr",
     "output_type": "stream",
     "text": [
      "  0%|          | 0/1 [00:00<?, ?it/s]"
     ]
    },
    {
     "name": "stdout",
     "output_type": "stream",
     "text": [
      "Loading Partitions for CIFAR100 dataset with 500 clusters\n",
      "y_train shape: (50000,)\n"
     ]
    },
    {
     "name": "stderr",
     "output_type": "stream",
     "text": [
      "d:\\CONDA\\envs\\tfgpu\\lib\\site-packages\\sklearn\\metrics\\_classification.py:1327: UndefinedMetricWarning: Precision is ill-defined and being set to 0.0 in labels with no predicted samples. Use `zero_division` parameter to control this behavior.\n",
      "  _warn_prf(average, modifier, msg_start, len(result))\n"
     ]
    },
    {
     "name": "stdout",
     "output_type": "stream",
     "text": [
      "Accuracy on K-Means : 0.0968\n",
      "Accuracy on Epsilon_Neighbourhood : 0.0967\n"
     ]
    },
    {
     "name": "stderr",
     "output_type": "stream",
     "text": [
      "100%|██████████| 1/1 [19:07<00:00, 1147.45s/it]"
     ]
    },
    {
     "name": "stdout",
     "output_type": "stream",
     "text": [
      "Accuracy on Complete_Information : 0.439\n",
      "Test 1 Completed Successfully for CIFAR100\n"
     ]
    },
    {
     "name": "stderr",
     "output_type": "stream",
     "text": [
      "\n"
     ]
    }
   ],
   "source": [
    "for key, v in datasets.items():\n",
    "    \n",
    "    intermediate = []\n",
    "\n",
    "    x_train = v['data']['x_train']\n",
    "    x_test = v['data']['x_test']\n",
    "    y_train = v['data']['y_train']\n",
    "    y_test = v['data']['y_test']\n",
    "\n",
    "    print(\"Running Test 1 on {}...\".format(key))\n",
    "\n",
    "    for k in tqdm(test_param_grid[1]['K']):\n",
    "        dir = pathlib.PurePath(partition_dir, key + str(k) + '_partitions.tsv')\n",
    "        if Path(dir.as_posix()).exists():\n",
    "            print(\"Loading Partitions for {} dataset with {} clusters\".format(key, k))\n",
    "            with open(dir) as f:\n",
    "                lines = f.readlines()\n",
    "            lines = [line.rstrip() for line in lines]\n",
    "            x = []\n",
    "            y = []\n",
    "            for line in lines:\n",
    "                tokens = line.split()\n",
    "                x_vec = np.zeros(len(tokens)-1)\n",
    "                for i in range(len(tokens)-1):\n",
    "                    x_vec[i] = float(tokens[i])\n",
    "\n",
    "                x.append(x_vec)\n",
    "                y.append(int(tokens[-1]))\n",
    "        else:\n",
    "            print(\"Generating Partitions for {} dataset with {} clusters\".format(key, k))\n",
    "            x_vecs = flatten(x_train)\n",
    "            x, y = partition(x_vecs, k, SEED=seed, write_path=pathlib.PurePath(interim, key + str(k) + '_partitions.tsv'))\n",
    "\n",
    "        kmeans = runKmeans(k, (x_train, x_test), (y_train, y_test), v['shape'], key, model_param_grid[key])\n",
    "        results = runTest(k, test_param_grid[1]['epsilon'], (x_train, x_test), (y_train, y_test), (x, y), v['shape'], model_param_grid[key], key, (False, True, True))\n",
    "        \n",
    "        sets = [kmeans, results['epsilon'], results['complete']]\n",
    "        for set in sets:\n",
    "            set['K'] = k\n",
    "            intermediate.append(set)\n",
    "\n",
    "    metrics = pd.DataFrame(intermediate)\n",
    "    metrics.to_csv(pathlib.PurePath(res, 'strategy1_500_1000_{}.csv'.format(key)))\n",
    "    print(\"Test 1 Completed Successfully for {}\".format(key))"
   ]
  },
  {
   "cell_type": "markdown",
   "metadata": {},
   "source": [
    "## Strategy 2 (Variable $\\epsilon$)"
   ]
  },
  {
   "cell_type": "code",
   "execution_count": 7,
   "metadata": {},
   "outputs": [
    {
     "name": "stdout",
     "output_type": "stream",
     "text": [
      "Loading Partitions for CIFAR10 dataset with 1000 clusters\n",
      "Running Test 2 on CIFAR10...\n"
     ]
    },
    {
     "name": "stderr",
     "output_type": "stream",
     "text": [
      " 25%|██▌       | 1/4 [13:51<41:33, 831.22s/it]"
     ]
    },
    {
     "name": "stdout",
     "output_type": "stream",
     "text": [
      "Accuracy on Epsilon_Neighbourhood : 0.3029\n"
     ]
    },
    {
     "name": "stderr",
     "output_type": "stream",
     "text": [
      " 50%|█████     | 2/4 [27:29<27:27, 823.90s/it]"
     ]
    },
    {
     "name": "stdout",
     "output_type": "stream",
     "text": [
      "Accuracy on Epsilon_Neighbourhood : 0.2994\n"
     ]
    },
    {
     "name": "stderr",
     "output_type": "stream",
     "text": [
      " 75%|███████▌  | 3/4 [45:16<15:34, 934.50s/it]"
     ]
    },
    {
     "name": "stdout",
     "output_type": "stream",
     "text": [
      "Accuracy on Epsilon_Neighbourhood : 0.3062\n",
      "Accuracy on Epsilon_Neighbourhood : 0.2973\n"
     ]
    },
    {
     "name": "stderr",
     "output_type": "stream",
     "text": [
      "100%|██████████| 4/4 [1:01:41<00:00, 925.25s/it]\n"
     ]
    },
    {
     "name": "stdout",
     "output_type": "stream",
     "text": [
      "Test 2 Completed Successfully for CIFAR10\n",
      "Loading Partitions for CIFAR100 dataset with 1000 clusters\n",
      "Running Test 2 on CIFAR100...\n"
     ]
    },
    {
     "name": "stderr",
     "output_type": "stream",
     "text": [
      "  0%|          | 0/4 [00:00<?, ?it/s]"
     ]
    },
    {
     "name": "stdout",
     "output_type": "stream",
     "text": [
      "Accuracy on Epsilon_Neighbourhood : 0.1087\n"
     ]
    },
    {
     "name": "stderr",
     "output_type": "stream",
     "text": [
      " 50%|█████     | 2/4 [32:11<32:12, 966.40s/it]"
     ]
    },
    {
     "name": "stdout",
     "output_type": "stream",
     "text": [
      "Accuracy on Epsilon_Neighbourhood : 0.1164\n"
     ]
    },
    {
     "name": "stderr",
     "output_type": "stream",
     "text": [
      "d:\\CONDA\\envs\\tfgpu\\lib\\site-packages\\sklearn\\metrics\\_classification.py:1327: UndefinedMetricWarning: Precision is ill-defined and being set to 0.0 in labels with no predicted samples. Use `zero_division` parameter to control this behavior.\n",
      "  _warn_prf(average, modifier, msg_start, len(result))\n",
      " 75%|███████▌  | 3/4 [48:53<16:22, 982.78s/it]"
     ]
    },
    {
     "name": "stdout",
     "output_type": "stream",
     "text": [
      "Accuracy on Epsilon_Neighbourhood : 0.1081\n"
     ]
    },
    {
     "name": "stderr",
     "output_type": "stream",
     "text": [
      "100%|██████████| 4/4 [1:07:53<00:00, 1018.43s/it]"
     ]
    },
    {
     "name": "stdout",
     "output_type": "stream",
     "text": [
      "Accuracy on Epsilon_Neighbourhood : 0.1006\n",
      "Test 2 Completed Successfully for CIFAR100\n"
     ]
    },
    {
     "name": "stderr",
     "output_type": "stream",
     "text": [
      "\n"
     ]
    }
   ],
   "source": [
    "for key, v in datasets.items():\n",
    "\n",
    "    intermediate = []\n",
    "\n",
    "    x_train = v['data']['x_train']\n",
    "    x_test = v['data']['x_test']\n",
    "    y_train = v['data']['y_train']\n",
    "    y_test = v['data']['y_test']\n",
    "\n",
    "    k = test_param_grid[2]['K']\n",
    "    dir = pathlib.PurePath(partition_dir, key + str(k) + '_partitions.tsv')\n",
    "    \n",
    "    if Path(dir.as_posix()).exists():\n",
    "        print(\"Loading Partitions for {} dataset with {} clusters\".format(key, k))\n",
    "        with open(dir) as f:\n",
    "            lines = f.readlines()\n",
    "        lines = [line.rstrip() for line in lines]\n",
    "        x = []\n",
    "        y = []\n",
    "        for line in lines:\n",
    "            tokens = line.split()\n",
    "            x_vec = np.zeros(len(tokens)-1)\n",
    "            for i in range(len(tokens)-1):\n",
    "                x_vec[i] = float(tokens[i])\n",
    "\n",
    "            x.append(x_vec)\n",
    "            y.append(int(tokens[-1]))\n",
    "    else: \n",
    "        print(\"Generating Partitions for {} dataset with {} clusters\".format(key, k))\n",
    "        x_vecs = flatten(x_train)\n",
    "        x, y = partition(x_vecs, k, SEED=seed, write_path=pathlib.PurePath(interim, key + str(k) + '_partitions.tsv'))\n",
    "\n",
    "    print(\"Running Test 2 on {}...\".format(key))\n",
    "\n",
    "    for e in tqdm(test_param_grid[2]['epsilon']): \n",
    "        results = runTest(test_param_grid[2]['K'], e, (x_train, x_test), (y_train, y_test), (x, y), v['shape'], model_param_grid[key], key, (False, True, False))\n",
    "        results = results['epsilon']\n",
    "        results['dataset'] = key\n",
    "        results['Epsilon'] = e\n",
    "\n",
    "        intermediate.append(results)\n",
    "    \n",
    "    metrics = pd.DataFrame(intermediate)\n",
    "    metrics.to_csv(pathlib.PurePath(res, 'strategy2_{}.csv'.format(key)))\n",
    "    print(\"Test 2 Completed Successfully for {}\".format(key))"
   ]
  }
 ],
 "metadata": {
  "kernelspec": {
   "display_name": "Python 3.9.7 64-bit",
   "language": "python",
   "name": "python3"
  },
  "language_info": {
   "codemirror_mode": {
    "name": "ipython",
    "version": 3
   },
   "file_extension": ".py",
   "mimetype": "text/x-python",
   "name": "python",
   "nbconvert_exporter": "python",
   "pygments_lexer": "ipython3",
   "version": "3.9.7"
  },
  "orig_nbformat": 4,
  "vscode": {
   "interpreter": {
    "hash": "b4ccd533b8af4d104007a7b831e6bde8cef996cd382a888428e9df6251e5e070"
   }
  }
 },
 "nbformat": 4,
 "nbformat_minor": 2
}
