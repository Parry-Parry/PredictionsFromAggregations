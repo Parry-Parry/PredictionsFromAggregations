{
 "cells": [
  {
   "cell_type": "markdown",
   "metadata": {},
   "source": [
    "# Verification of Thesis Results"
   ]
  },
  {
   "cell_type": "markdown",
   "metadata": {},
   "source": [
    "## Imports "
   ]
  },
  {
   "cell_type": "code",
   "execution_count": 1,
   "metadata": {},
   "outputs": [],
   "source": [
    "import sys\n",
    "import os\n",
    "import logging\n",
    "import pathlib\n",
    "from pathlib import Path\n",
    "\n",
    "import sklearn\n",
    "import pandas as pd\n",
    "import numpy as np\n",
    "from tqdm import tqdm\n",
    "\n",
    "from tensorflow import keras\n",
    "from src.models.baseline.kmeans import runKmeans\n",
    "from tensorflow.keras import layers\n",
    "from tensorflow.keras.datasets import cifar100, cifar10, mnist\n",
    "\n",
    "from src.models.baseline.helper import *"
   ]
  },
  {
   "cell_type": "markdown",
   "metadata": {},
   "source": [
    "## Required Paths"
   ]
  },
  {
   "cell_type": "code",
   "execution_count": 2,
   "metadata": {},
   "outputs": [],
   "source": [
    "cwd = Path(os.getcwd())\n",
    "root = cwd.parent.parent\n",
    "data = pathlib.PurePath(root, 'data')\n",
    "history = pathlib.PurePath(data, 'history')\n",
    "interim = pathlib.PurePath(data, 'interim')\n",
    "results = pathlib.PurePath(data, 'results', 'thesis')"
   ]
  },
  {
   "cell_type": "markdown",
   "metadata": {},
   "source": [
    "## Parameters and Datasets"
   ]
  },
  {
   "cell_type": "code",
   "execution_count": 3,
   "metadata": {},
   "outputs": [],
   "source": [
    "test_param_grid ={\n",
    "    1 : {\n",
    "        'K' : [50, 100, 200, 500, 1000],\n",
    "        'epsilon' : 0.01\n",
    "    },\n",
    "    2 : {\n",
    "        'K' : 1000,\n",
    "        'epsilon' : [0.01, 0.05, 0.1, 1.0]\n",
    "    }\n",
    "}\n",
    "\n",
    "model_param_grid = {\n",
    "    'MNIST' : {\n",
    "        'batch_size' : 1000,\n",
    "        'epochs' : 15,\n",
    "        'save_history' : False,\n",
    "        'path' : history\n",
    "    },\n",
    "    'CIFAR10' : {\n",
    "        'batch_size' : 64,\n",
    "        'epochs' : 30,\n",
    "        'save_history' : False,\n",
    "        'path' : history\n",
    "    },\n",
    "    'CIFAR100' : {\n",
    "        'batch_size' : 64,\n",
    "        'epochs' : 30,\n",
    "        'save_history' : False,\n",
    "        'path' : history\n",
    "    }\n",
    "}"
   ]
  },
  {
   "cell_type": "code",
   "execution_count": 4,
   "metadata": {},
   "outputs": [],
   "source": [
    "datasets = {\n",
    "    'MNIST' : {\n",
    "        'data' : dataset_normalize(mnist.load_data()),\n",
    "        'shape' : (28, 28, 1)\n",
    "        },\n",
    "    'CIFAR10' : {\n",
    "        'data' : dataset_normalize(cifar10.load_data()),\n",
    "        'shape' : (32, 32, 3) \n",
    "    },\n",
    "    'CIFAR100' : {\n",
    "        'data' : dataset_normalize(cifar100.load_data()),\n",
    "        'shape' : (32, 32, 3) \n",
    "    }\n",
    "}"
   ]
  },
  {
   "cell_type": "code",
   "execution_count": 5,
   "metadata": {},
   "outputs": [],
   "source": [
    "x_train = datasets['MNIST']['data']['x_train']"
   ]
  },
  {
   "cell_type": "code",
   "execution_count": 6,
   "metadata": {},
   "outputs": [],
   "source": [
    "results1 = pd.DataFrame()"
   ]
  },
  {
   "cell_type": "code",
   "execution_count": 7,
   "metadata": {},
   "outputs": [],
   "source": [
    "partition_dir = interim\n",
    "seed = 8008"
   ]
  },
  {
   "cell_type": "markdown",
   "metadata": {},
   "source": [
    "## Strategy 1 (Variable K)"
   ]
  },
  {
   "cell_type": "code",
   "execution_count": 8,
   "metadata": {},
   "outputs": [
    {
     "name": "stdout",
     "output_type": "stream",
     "text": [
      "Running Test 1 on MNIST...\n"
     ]
    },
    {
     "name": "stderr",
     "output_type": "stream",
     "text": [
      "  0%|          | 0/5 [00:00<?, ?it/s]"
     ]
    },
    {
     "name": "stdout",
     "output_type": "stream",
     "text": [
      "Loading Partitions for MNIST dataset with 50 clusters\n",
      "Epoch 1/15\n",
      "1/1 - 1s - loss: 2.3030 - accuracy: 0.1250 - val_loss: 2.2816 - val_accuracy: 0.1000\n",
      "Epoch 2/15\n",
      "1/1 - 0s - loss: 2.2684 - accuracy: 0.2000 - val_loss: 2.2509 - val_accuracy: 0.1000\n",
      "Epoch 3/15\n",
      "1/1 - 0s - loss: 2.2312 - accuracy: 0.1750 - val_loss: 2.2121 - val_accuracy: 0.1000\n",
      "Epoch 4/15\n",
      "1/1 - 0s - loss: 2.1995 - accuracy: 0.1250 - val_loss: 2.1804 - val_accuracy: 0.1000\n",
      "Epoch 5/15\n",
      "1/1 - 0s - loss: 2.1311 - accuracy: 0.2250 - val_loss: 2.1232 - val_accuracy: 0.3000\n",
      "Epoch 6/15\n",
      "1/1 - 0s - loss: 2.0592 - accuracy: 0.3000 - val_loss: 2.0466 - val_accuracy: 0.5000\n",
      "Epoch 7/15\n",
      "1/1 - 0s - loss: 1.9116 - accuracy: 0.4250 - val_loss: 1.9548 - val_accuracy: 0.5000\n",
      "Epoch 8/15\n",
      "1/1 - 0s - loss: 1.8705 - accuracy: 0.4750 - val_loss: 1.8274 - val_accuracy: 0.5000\n",
      "Epoch 9/15\n",
      "1/1 - 0s - loss: 1.5236 - accuracy: 0.5500 - val_loss: 1.6276 - val_accuracy: 0.8000\n",
      "Epoch 10/15\n",
      "1/1 - 0s - loss: 1.3654 - accuracy: 0.5500 - val_loss: 1.5321 - val_accuracy: 0.7000\n",
      "Epoch 11/15\n",
      "1/1 - 0s - loss: 1.3374 - accuracy: 0.5750 - val_loss: 1.3739 - val_accuracy: 0.7000\n",
      "Epoch 12/15\n",
      "1/1 - 0s - loss: 1.2765 - accuracy: 0.5750 - val_loss: 1.1423 - val_accuracy: 0.8000\n",
      "Epoch 13/15\n",
      "1/1 - 0s - loss: 1.0568 - accuracy: 0.6750 - val_loss: 1.0220 - val_accuracy: 0.8000\n",
      "Epoch 14/15\n",
      "1/1 - 0s - loss: 0.8069 - accuracy: 0.7250 - val_loss: 0.8955 - val_accuracy: 0.7000\n",
      "Epoch 15/15\n",
      "1/1 - 0s - loss: 0.9656 - accuracy: 0.6000 - val_loss: 0.7436 - val_accuracy: 0.7000\n",
      "Epoch 1/15\n",
      "48/48 - 38s - loss: 1.0574 - accuracy: 0.6719 - val_loss: 0.7403 - val_accuracy: 0.7985\n",
      "Epoch 2/15\n",
      "48/48 - 39s - loss: 0.7376 - accuracy: 0.7835 - val_loss: 0.6775 - val_accuracy: 0.8260\n",
      "Epoch 3/15\n",
      "48/48 - 39s - loss: 0.7106 - accuracy: 0.7885 - val_loss: 0.6349 - val_accuracy: 0.8354\n",
      "Epoch 4/15\n",
      "48/48 - 36s - loss: 0.6955 - accuracy: 0.7919 - val_loss: 0.6139 - val_accuracy: 0.8353\n",
      "Epoch 5/15\n",
      "48/48 - 41s - loss: 0.6862 - accuracy: 0.7925 - val_loss: 0.5915 - val_accuracy: 0.8338\n",
      "Epoch 6/15\n",
      "48/48 - 39s - loss: 0.6796 - accuracy: 0.7932 - val_loss: 0.6035 - val_accuracy: 0.8331\n",
      "Epoch 7/15\n",
      "48/48 - 38s - loss: 0.6745 - accuracy: 0.7948 - val_loss: 0.6024 - val_accuracy: 0.8354\n",
      "Epoch 8/15\n",
      "48/48 - 36s - loss: 0.6701 - accuracy: 0.7949 - val_loss: 0.6097 - val_accuracy: 0.8332\n",
      "Epoch 9/15\n",
      "48/48 - 38s - loss: 0.6704 - accuracy: 0.7954 - val_loss: 0.5879 - val_accuracy: 0.8357\n",
      "Epoch 10/15\n",
      "48/48 - 38s - loss: 0.6659 - accuracy: 0.7966 - val_loss: 0.5879 - val_accuracy: 0.8352\n",
      "Epoch 11/15\n",
      "48/48 - 38s - loss: 0.6638 - accuracy: 0.7960 - val_loss: 0.5950 - val_accuracy: 0.8337\n",
      "Epoch 12/15\n",
      "48/48 - 40s - loss: 0.6614 - accuracy: 0.7965 - val_loss: 0.5984 - val_accuracy: 0.8359\n",
      "Epoch 13/15\n",
      "48/48 - 42s - loss: 0.6574 - accuracy: 0.7960 - val_loss: 0.6000 - val_accuracy: 0.8347\n",
      "Epoch 14/15\n",
      "48/48 - 41s - loss: 0.6560 - accuracy: 0.7962 - val_loss: 0.6045 - val_accuracy: 0.8369\n",
      "Epoch 15/15\n",
      "48/48 - 39s - loss: 0.6518 - accuracy: 0.7970 - val_loss: 0.5835 - val_accuracy: 0.8357\n",
      "Epoch 1/15\n",
      "48/48 - 43s - loss: 0.9324 - accuracy: 0.7139 - val_loss: 0.6136 - val_accuracy: 0.8391\n",
      "Epoch 2/15\n",
      "48/48 - 39s - loss: 0.6760 - accuracy: 0.7944 - val_loss: 0.5526 - val_accuracy: 0.8391\n",
      "Epoch 3/15\n",
      "48/48 - 37s - loss: 0.6683 - accuracy: 0.7963 - val_loss: 0.5779 - val_accuracy: 0.8391\n",
      "Epoch 4/15\n",
      "48/48 - 32s - loss: 0.6627 - accuracy: 0.7980 - val_loss: 0.5481 - val_accuracy: 0.8391\n",
      "Epoch 5/15\n",
      "48/48 - 29s - loss: 0.6587 - accuracy: 0.7958 - val_loss: 0.5423 - val_accuracy: 0.8391\n",
      "Epoch 6/15\n",
      "48/48 - 30s - loss: 0.6581 - accuracy: 0.7971 - val_loss: 0.5418 - val_accuracy: 0.8391\n",
      "Epoch 7/15\n",
      "48/48 - 30s - loss: 0.6557 - accuracy: 0.7977 - val_loss: 0.5653 - val_accuracy: 0.8391\n",
      "Epoch 8/15\n",
      "48/48 - 29s - loss: 0.6554 - accuracy: 0.7981 - val_loss: 0.5490 - val_accuracy: 0.8391\n",
      "Epoch 9/15\n",
      "48/48 - 29s - loss: 0.6549 - accuracy: 0.7981 - val_loss: 0.5390 - val_accuracy: 0.8391\n",
      "Epoch 10/15\n",
      "48/48 - 29s - loss: 0.6524 - accuracy: 0.7975 - val_loss: 0.5515 - val_accuracy: 0.8391\n",
      "Epoch 11/15\n",
      "48/48 - 29s - loss: 0.6520 - accuracy: 0.7975 - val_loss: 0.5410 - val_accuracy: 0.8391\n",
      "Epoch 12/15\n",
      "48/48 - 29s - loss: 0.6513 - accuracy: 0.7978 - val_loss: 0.5445 - val_accuracy: 0.8391\n",
      "Epoch 13/15\n",
      "48/48 - 29s - loss: 0.6512 - accuracy: 0.7976 - val_loss: 0.5500 - val_accuracy: 0.8391\n",
      "Epoch 14/15\n",
      "48/48 - 30s - loss: 0.6513 - accuracy: 0.7970 - val_loss: 0.5480 - val_accuracy: 0.8391\n",
      "Epoch 15/15\n",
      "48/48 - 29s - loss: 0.6510 - accuracy: 0.7967 - val_loss: 0.5544 - val_accuracy: 0.8391\n",
      "Epoch 1/15\n",
      "48/48 - 30s - loss: 0.6295 - accuracy: 0.7989 - val_loss: 0.1165 - val_accuracy: 0.9665\n",
      "Epoch 2/15\n",
      "48/48 - 29s - loss: 0.1247 - accuracy: 0.9611 - val_loss: 0.0661 - val_accuracy: 0.9810\n",
      "Epoch 3/15\n",
      "48/48 - 29s - loss: 0.0847 - accuracy: 0.9735 - val_loss: 0.0511 - val_accuracy: 0.9848\n",
      "Epoch 4/15\n",
      "48/48 - 29s - loss: 0.0671 - accuracy: 0.9788 - val_loss: 0.0465 - val_accuracy: 0.9856\n",
      "Epoch 5/15\n",
      "48/48 - 29s - loss: 0.0553 - accuracy: 0.9827 - val_loss: 0.0363 - val_accuracy: 0.9894\n",
      "Epoch 6/15\n",
      "48/48 - 39s - loss: 0.0464 - accuracy: 0.9856 - val_loss: 0.0379 - val_accuracy: 0.9892\n",
      "Epoch 7/15\n",
      "48/48 - 44s - loss: 0.0413 - accuracy: 0.9866 - val_loss: 0.0357 - val_accuracy: 0.9899\n",
      "Epoch 8/15\n",
      "48/48 - 38s - loss: 0.0360 - accuracy: 0.9884 - val_loss: 0.0339 - val_accuracy: 0.9899\n",
      "Epoch 9/15\n",
      "48/48 - 42s - loss: 0.0337 - accuracy: 0.9888 - val_loss: 0.0330 - val_accuracy: 0.9906\n",
      "Epoch 10/15\n",
      "48/48 - 42s - loss: 0.0318 - accuracy: 0.9896 - val_loss: 0.0295 - val_accuracy: 0.9915\n",
      "Epoch 11/15\n",
      "48/48 - 36s - loss: 0.0265 - accuracy: 0.9919 - val_loss: 0.0286 - val_accuracy: 0.9914\n",
      "Epoch 12/15\n",
      "48/48 - 35s - loss: 0.0245 - accuracy: 0.9922 - val_loss: 0.0300 - val_accuracy: 0.9918\n",
      "Epoch 13/15\n",
      "48/48 - 37s - loss: 0.0225 - accuracy: 0.9928 - val_loss: 0.0290 - val_accuracy: 0.9927\n",
      "Epoch 14/15\n",
      "48/48 - 38s - loss: 0.0195 - accuracy: 0.9938 - val_loss: 0.0301 - val_accuracy: 0.9921\n",
      "Epoch 15/15\n",
      "48/48 - 33s - loss: 0.0191 - accuracy: 0.9935 - val_loss: 0.0299 - val_accuracy: 0.9923\n"
     ]
    },
    {
     "name": "stderr",
     "output_type": "stream",
     "text": [
      "C:\\Users\\Parry\\AppData\\Local\\Temp\\ipykernel_15484\\571690668.py:38: FutureWarning: The frame.append method is deprecated and will be removed from pandas in a future version. Use pandas.concat instead.\n",
      "  results1.append(set)\n",
      "  0%|          | 0/5 [31:35<?, ?it/s]\n"
     ]
    },
    {
     "ename": "TypeError",
     "evalue": "Can only append a dict if ignore_index=True",
     "output_type": "error",
     "traceback": [
      "\u001b[1;31m---------------------------------------------------------------------------\u001b[0m",
      "\u001b[1;31mTypeError\u001b[0m                                 Traceback (most recent call last)",
      "\u001b[1;32md:\\SUMMER 2022\\PROJECT\\PredictionsFromAggregations\\notebooks\\baseline\\testing.ipynb Cell 13'\u001b[0m in \u001b[0;36m<cell line: 1>\u001b[1;34m()\u001b[0m\n\u001b[0;32m     <a href='vscode-notebook-cell:/d%3A/SUMMER%202022/PROJECT/PredictionsFromAggregations/notebooks/baseline/testing.ipynb#ch0000009?line=35'>36</a>\u001b[0m         \u001b[39mset\u001b[39m[\u001b[39m'\u001b[39m\u001b[39mdataset\u001b[39m\u001b[39m'\u001b[39m] \u001b[39m=\u001b[39m key\n\u001b[0;32m     <a href='vscode-notebook-cell:/d%3A/SUMMER%202022/PROJECT/PredictionsFromAggregations/notebooks/baseline/testing.ipynb#ch0000009?line=36'>37</a>\u001b[0m         \u001b[39mset\u001b[39m[\u001b[39m'\u001b[39m\u001b[39mK\u001b[39m\u001b[39m'\u001b[39m] \u001b[39m=\u001b[39m k\n\u001b[1;32m---> <a href='vscode-notebook-cell:/d%3A/SUMMER%202022/PROJECT/PredictionsFromAggregations/notebooks/baseline/testing.ipynb#ch0000009?line=37'>38</a>\u001b[0m         results1\u001b[39m.\u001b[39;49mappend(\u001b[39mset\u001b[39;49m)\n\u001b[0;32m     <a href='vscode-notebook-cell:/d%3A/SUMMER%202022/PROJECT/PredictionsFromAggregations/notebooks/baseline/testing.ipynb#ch0000009?line=39'>40</a>\u001b[0m \u001b[39mprint\u001b[39m(\u001b[39m\"\u001b[39m\u001b[39mTest 1 Completed Successfully\u001b[39m\u001b[39m\"\u001b[39m)\n",
      "File \u001b[1;32md:\\CONDA\\envs\\tf\\lib\\site-packages\\pandas\\core\\frame.py:9039\u001b[0m, in \u001b[0;36mDataFrame.append\u001b[1;34m(self, other, ignore_index, verify_integrity, sort)\u001b[0m\n\u001b[0;32m   <a href='file:///d%3A/CONDA/envs/tf/lib/site-packages/pandas/core/frame.py?line=8935'>8936</a>\u001b[0m \u001b[39m\"\"\"\u001b[39;00m\n\u001b[0;32m   <a href='file:///d%3A/CONDA/envs/tf/lib/site-packages/pandas/core/frame.py?line=8936'>8937</a>\u001b[0m \u001b[39mAppend rows of `other` to the end of caller, returning a new object.\u001b[39;00m\n\u001b[0;32m   <a href='file:///d%3A/CONDA/envs/tf/lib/site-packages/pandas/core/frame.py?line=8937'>8938</a>\u001b[0m \n\u001b[1;32m   (...)\u001b[0m\n\u001b[0;32m   <a href='file:///d%3A/CONDA/envs/tf/lib/site-packages/pandas/core/frame.py?line=9028'>9029</a>\u001b[0m \u001b[39m4  4\u001b[39;00m\n\u001b[0;32m   <a href='file:///d%3A/CONDA/envs/tf/lib/site-packages/pandas/core/frame.py?line=9029'>9030</a>\u001b[0m \u001b[39m\"\"\"\u001b[39;00m\n\u001b[0;32m   <a href='file:///d%3A/CONDA/envs/tf/lib/site-packages/pandas/core/frame.py?line=9030'>9031</a>\u001b[0m warnings\u001b[39m.\u001b[39mwarn(\n\u001b[0;32m   <a href='file:///d%3A/CONDA/envs/tf/lib/site-packages/pandas/core/frame.py?line=9031'>9032</a>\u001b[0m     \u001b[39m\"\u001b[39m\u001b[39mThe frame.append method is deprecated \u001b[39m\u001b[39m\"\u001b[39m\n\u001b[0;32m   <a href='file:///d%3A/CONDA/envs/tf/lib/site-packages/pandas/core/frame.py?line=9032'>9033</a>\u001b[0m     \u001b[39m\"\u001b[39m\u001b[39mand will be removed from pandas in a future version. \u001b[39m\u001b[39m\"\u001b[39m\n\u001b[1;32m   (...)\u001b[0m\n\u001b[0;32m   <a href='file:///d%3A/CONDA/envs/tf/lib/site-packages/pandas/core/frame.py?line=9035'>9036</a>\u001b[0m     stacklevel\u001b[39m=\u001b[39mfind_stack_level(),\n\u001b[0;32m   <a href='file:///d%3A/CONDA/envs/tf/lib/site-packages/pandas/core/frame.py?line=9036'>9037</a>\u001b[0m )\n\u001b[1;32m-> <a href='file:///d%3A/CONDA/envs/tf/lib/site-packages/pandas/core/frame.py?line=9038'>9039</a>\u001b[0m \u001b[39mreturn\u001b[39;00m \u001b[39mself\u001b[39;49m\u001b[39m.\u001b[39;49m_append(other, ignore_index, verify_integrity, sort)\n",
      "File \u001b[1;32md:\\CONDA\\envs\\tf\\lib\\site-packages\\pandas\\core\\frame.py:9052\u001b[0m, in \u001b[0;36mDataFrame._append\u001b[1;34m(self, other, ignore_index, verify_integrity, sort)\u001b[0m\n\u001b[0;32m   <a href='file:///d%3A/CONDA/envs/tf/lib/site-packages/pandas/core/frame.py?line=9049'>9050</a>\u001b[0m \u001b[39mif\u001b[39;00m \u001b[39misinstance\u001b[39m(other, \u001b[39mdict\u001b[39m):\n\u001b[0;32m   <a href='file:///d%3A/CONDA/envs/tf/lib/site-packages/pandas/core/frame.py?line=9050'>9051</a>\u001b[0m     \u001b[39mif\u001b[39;00m \u001b[39mnot\u001b[39;00m ignore_index:\n\u001b[1;32m-> <a href='file:///d%3A/CONDA/envs/tf/lib/site-packages/pandas/core/frame.py?line=9051'>9052</a>\u001b[0m         \u001b[39mraise\u001b[39;00m \u001b[39mTypeError\u001b[39;00m(\u001b[39m\"\u001b[39m\u001b[39mCan only append a dict if ignore_index=True\u001b[39m\u001b[39m\"\u001b[39m)\n\u001b[0;32m   <a href='file:///d%3A/CONDA/envs/tf/lib/site-packages/pandas/core/frame.py?line=9052'>9053</a>\u001b[0m     other \u001b[39m=\u001b[39m Series(other)\n\u001b[0;32m   <a href='file:///d%3A/CONDA/envs/tf/lib/site-packages/pandas/core/frame.py?line=9053'>9054</a>\u001b[0m \u001b[39mif\u001b[39;00m other\u001b[39m.\u001b[39mname \u001b[39mis\u001b[39;00m \u001b[39mNone\u001b[39;00m \u001b[39mand\u001b[39;00m \u001b[39mnot\u001b[39;00m ignore_index:\n",
      "\u001b[1;31mTypeError\u001b[0m: Can only append a dict if ignore_index=True"
     ]
    }
   ],
   "source": [
    "for key, v in datasets.items():\n",
    "    x_train = v['data']['x_train']\n",
    "    x_test = v['data']['x_test']\n",
    "    y_train = v['data']['y_train']\n",
    "    y_test = v['data']['y_test']\n",
    "\n",
    "    print(\"Running Test 1 on {}...\".format(key))\n",
    "\n",
    "    for k in tqdm(test_param_grid[1]['K']):\n",
    "        dir = pathlib.PurePath(partition_dir, key + str(k) + '_partitions.tsv')\n",
    "        if Path(dir.as_posix()).exists():\n",
    "            print(\"Loading Partitions for {} dataset with {} clusters\".format(key, k))\n",
    "            with open(dir) as f:\n",
    "                lines = f.readlines()\n",
    "            lines = [line.rstrip() for line in lines]\n",
    "            x = []\n",
    "            y = []\n",
    "            for line in lines:\n",
    "                tokens = line.split()\n",
    "                x_vec = np.zeros(len(tokens)-1)\n",
    "                for i in range(len(tokens)-1):\n",
    "                    x_vec[i] = float(tokens[i])\n",
    "\n",
    "                x.append(x_vec)\n",
    "                y.append(int(tokens[-1]))\n",
    "        else:\n",
    "            print(\"Generating Partitions for {} dataset with {} clusters\".format(key, k))\n",
    "            x_vecs = flatten(x_train)\n",
    "            x, y = partition(x_vecs, k, SEED=seed, write_path=pathlib.PurePath(interim, key + str(k) + '_partitions.tsv'))\n",
    "\n",
    "        kmeans = runKmeans(k,  (x_train, x_test), (y_train, y_test), v['shape'], model_param_grid[key])\n",
    "        results = runTest(k, test_param_grid[1]['epsilon'], (x_train, x_test), (y_train, y_test), (x, y), v['shape'], model_param_grid[key], (True, True, True))\n",
    "        \n",
    "        sets = [kmeans, results['gaussian'], results['epsilon'], results['complete']]\n",
    "        for set in sets:\n",
    "            set['dataset'] = key\n",
    "            set['K'] = k\n",
    "            results1.append(set, ignore_index=True)\n",
    "\n",
    "    print(\"Test 1 Completed Successfully\")"
   ]
  },
  {
   "cell_type": "markdown",
   "metadata": {},
   "source": [
    "## Strategy 2 (Variable $\\epsilon$)"
   ]
  },
  {
   "cell_type": "code",
   "execution_count": null,
   "metadata": {},
   "outputs": [],
   "source": [
    "results2 = pd.DataFrame()"
   ]
  },
  {
   "cell_type": "code",
   "execution_count": null,
   "metadata": {},
   "outputs": [],
   "source": [
    "print(\"Running Test 2 on {}...\".format(key))\n",
    "\n",
    "for e in tqdm(test_param_grid[2]['epsilon']): # TODO: Make function run test 1 or test 2\n",
    "    results = runTest(test_param_grid[2]['K'], e, (x_train, x_test), (y_train, y_test), (x, y), v['shape'], model_param_grid[key], (False, True, False))\n",
    "    results = results['epsilon']\n",
    "    results['dataset'] = key\n",
    "    results['Epsilon'] = e\n",
    "\n",
    "    results2.append(results)\n",
    "\n",
    "print(\"Test 2 Completed Successfully\")"
   ]
  },
  {
   "cell_type": "code",
   "execution_count": null,
   "metadata": {},
   "outputs": [],
   "source": [
    "print(\"Saving Results...\")\n",
    "\n",
    "results1.to_csv(pathlib.PurePath(results, 'test1.csv'))\n",
    "results2.to_csv(pathlib.PurePath(results, 'test2.csv'))"
   ]
  }
 ],
 "metadata": {
  "interpreter": {
   "hash": "c4e57a4fbbe7b238f2d8f4c3c5c55f142d3bab0a64ef0692cc7fcf686c333830"
  },
  "kernelspec": {
   "display_name": "Python 3.9.12 ('tf')",
   "language": "python",
   "name": "python3"
  },
  "language_info": {
   "codemirror_mode": {
    "name": "ipython",
    "version": 3
   },
   "file_extension": ".py",
   "mimetype": "text/x-python",
   "name": "python",
   "nbconvert_exporter": "python",
   "pygments_lexer": "ipython3",
   "version": "3.9.12"
  },
  "orig_nbformat": 4
 },
 "nbformat": 4,
 "nbformat_minor": 2
}
